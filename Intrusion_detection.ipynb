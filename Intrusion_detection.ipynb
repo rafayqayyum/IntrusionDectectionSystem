{
 "cells": [
  {
   "cell_type": "markdown",
   "id": "2f3654b3",
   "metadata": {
    "id": "Yrn4TSeWgvV_"
   },
   "source": [
    "## Importing some libraries"
   ]
  },
  {
   "cell_type": "code",
   "execution_count": 1,
   "id": "977cc7d3",
   "metadata": {
    "colab": {
     "base_uri": "https://localhost:8080/"
    },
    "id": "a7g9kYrfTZjZ",
    "outputId": "2efa11b3-6ed1-4669-d9cf-31c34fad1126"
   },
   "outputs": [],
   "source": [
    "import matplotlib.pyplot as plt\n",
    "import numpy as np\n",
    "import pandas as pd\n",
    "import zipfile\n",
    "from sklearn.metrics import classification_report\n",
    "import seaborn as sns\n",
    "from imblearn.under_sampling import OneSidedSelection"
   ]
  },
  {
   "cell_type": "markdown",
   "id": "bef4aff1",
   "metadata": {
    "id": "LfHFcljTTkrv"
   },
   "source": [
    "## Get the dataset"
   ]
  },
  {
   "cell_type": "markdown",
   "id": "eee8bea3",
   "metadata": {
    "id": "cImoYgtuXKxL"
   },
   "source": [
    "### Downloading dataset"
   ]
  },
  {
   "cell_type": "code",
   "execution_count": 2,
   "id": "ec33527c",
   "metadata": {
    "colab": {
     "base_uri": "https://localhost:8080/"
    },
    "id": "ofjsM7B5UMeq",
    "outputId": "5c1dbd66-f819-4b42-9782-9e0aeb202052"
   },
   "outputs": [],
   "source": [
    "#!wget http://kdd.ics.uci.edu/databases/kddcup99/kddcup.data.gz\n",
    "#!wget http://kdd.ics.uci.edu/databases/kddcup99/kddcup.names\n",
    "#!wget http://kdd.ics.uci.edu/databases/kddcup99/training_attack_types\n",
    "#!wget http://kdd.ics.uci.edu/databases/kddcup99/kddcup.data_10_percent.gz"
   ]
  },
  {
   "cell_type": "markdown",
   "id": "e0d7aa8d",
   "metadata": {
    "id": "zKQzhgTBXOwY"
   },
   "source": [
    "### Getting column names"
   ]
  },
  {
   "cell_type": "code",
   "execution_count": 3,
   "id": "d2361407",
   "metadata": {
    "id": "s9jyqCiEVweH"
   },
   "outputs": [],
   "source": [
    "file=open('kddcup.names')\n",
    "names=file.readlines()\n",
    "file.close()"
   ]
  },
  {
   "cell_type": "code",
   "execution_count": 4,
   "id": "4d786d8a",
   "metadata": {
    "id": "0bG-I8cSWY2P"
   },
   "outputs": [],
   "source": [
    "columns=[]\n",
    "for i in range(1,len(names)):\n",
    "  columns.append(names[i].split(':')[0])\n",
    "columns.append('target')"
   ]
  },
  {
   "cell_type": "code",
   "execution_count": 5,
   "id": "febc9046",
   "metadata": {
    "colab": {
     "base_uri": "https://localhost:8080/"
    },
    "id": "YOhtsQH1XBE2",
    "outputId": "0219ee40-868f-4493-8851-a9cdf029599c"
   },
   "outputs": [
    {
     "data": {
      "text/plain": [
       "['duration',\n",
       " 'protocol_type',\n",
       " 'service',\n",
       " 'flag',\n",
       " 'src_bytes',\n",
       " 'dst_bytes',\n",
       " 'land',\n",
       " 'wrong_fragment',\n",
       " 'urgent',\n",
       " 'hot',\n",
       " 'num_failed_logins',\n",
       " 'logged_in',\n",
       " 'num_compromised',\n",
       " 'root_shell',\n",
       " 'su_attempted',\n",
       " 'num_root',\n",
       " 'num_file_creations',\n",
       " 'num_shells',\n",
       " 'num_access_files',\n",
       " 'num_outbound_cmds',\n",
       " 'is_host_login',\n",
       " 'is_guest_login',\n",
       " 'count',\n",
       " 'srv_count',\n",
       " 'serror_rate',\n",
       " 'srv_serror_rate',\n",
       " 'rerror_rate',\n",
       " 'srv_rerror_rate',\n",
       " 'same_srv_rate',\n",
       " 'diff_srv_rate',\n",
       " 'srv_diff_host_rate',\n",
       " 'dst_host_count',\n",
       " 'dst_host_srv_count',\n",
       " 'dst_host_same_srv_rate',\n",
       " 'dst_host_diff_srv_rate',\n",
       " 'dst_host_same_src_port_rate',\n",
       " 'dst_host_srv_diff_host_rate',\n",
       " 'dst_host_serror_rate',\n",
       " 'dst_host_srv_serror_rate',\n",
       " 'dst_host_rerror_rate',\n",
       " 'dst_host_srv_rerror_rate',\n",
       " 'target']"
      ]
     },
     "execution_count": 5,
     "metadata": {},
     "output_type": "execute_result"
    }
   ],
   "source": [
    "columns"
   ]
  },
  {
   "cell_type": "markdown",
   "id": "97b9027f",
   "metadata": {
    "id": "86gnh-J-XZH6"
   },
   "source": [
    "### Getting the training attack types"
   ]
  },
  {
   "cell_type": "code",
   "execution_count": 6,
   "id": "543396ae",
   "metadata": {
    "id": "OX6JI4_VUNnB"
   },
   "outputs": [],
   "source": [
    "file=open('training_attack_types.txt')\n",
    "training_attack_types=file.readlines()\n",
    "file.close()"
   ]
  },
  {
   "cell_type": "code",
   "execution_count": 7,
   "id": "cbc55a68",
   "metadata": {
    "colab": {
     "base_uri": "https://localhost:8080/"
    },
    "id": "10enOfyBYoz0",
    "outputId": "697a0601-6b85-4442-b4ee-9428d4385640"
   },
   "outputs": [
    {
     "data": {
      "text/plain": [
       "['back dos\\n',\n",
       " 'buffer_overflow u2r\\n',\n",
       " 'ftp_write r2l\\n',\n",
       " 'guess_passwd r2l\\n',\n",
       " 'imap r2l\\n',\n",
       " 'ipsweep probe\\n',\n",
       " 'land dos\\n',\n",
       " 'loadmodule u2r\\n',\n",
       " 'multihop r2l\\n',\n",
       " 'neptune dos\\n',\n",
       " 'nmap probe\\n',\n",
       " 'perl u2r\\n',\n",
       " 'phf r2l\\n',\n",
       " 'pod dos\\n',\n",
       " 'portsweep probe\\n',\n",
       " 'rootkit u2r\\n',\n",
       " 'satan probe\\n',\n",
       " 'smurf dos\\n',\n",
       " 'spy r2l\\n',\n",
       " 'teardrop dos\\n',\n",
       " 'warezclient r2l\\n',\n",
       " 'warezmaster r2l\\n',\n",
       " '\\n']"
      ]
     },
     "execution_count": 7,
     "metadata": {},
     "output_type": "execute_result"
    }
   ],
   "source": [
    "training_attack_types"
   ]
  },
  {
   "cell_type": "code",
   "execution_count": 8,
   "id": "30188138",
   "metadata": {
    "id": "5QMZtcu4UdiJ"
   },
   "outputs": [],
   "source": [
    "attacks={}\n",
    "for x in training_attack_types:\n",
    "  tokens=x.strip().split(' ')\n",
    "  if len(tokens)>1:\n",
    "     attacks[tokens[0]]=tokens[1]\n"
   ]
  },
  {
   "cell_type": "code",
   "execution_count": 9,
   "id": "968f4dec",
   "metadata": {
    "id": "bFY3hLw9VC0S"
   },
   "outputs": [],
   "source": [
    "attacks['normal']='normal'"
   ]
  },
  {
   "cell_type": "code",
   "execution_count": 10,
   "id": "21b1cae3",
   "metadata": {},
   "outputs": [
    {
     "data": {
      "text/plain": [
       "{'back': 'dos',\n",
       " 'buffer_overflow': 'u2r',\n",
       " 'ftp_write': 'r2l',\n",
       " 'guess_passwd': 'r2l',\n",
       " 'imap': 'r2l',\n",
       " 'ipsweep': 'probe',\n",
       " 'land': 'dos',\n",
       " 'loadmodule': 'u2r',\n",
       " 'multihop': 'r2l',\n",
       " 'neptune': 'dos',\n",
       " 'nmap': 'probe',\n",
       " 'perl': 'u2r',\n",
       " 'phf': 'r2l',\n",
       " 'pod': 'dos',\n",
       " 'portsweep': 'probe',\n",
       " 'rootkit': 'u2r',\n",
       " 'satan': 'probe',\n",
       " 'smurf': 'dos',\n",
       " 'spy': 'r2l',\n",
       " 'teardrop': 'dos',\n",
       " 'warezclient': 'r2l',\n",
       " 'warezmaster': 'r2l',\n",
       " 'normal': 'normal'}"
      ]
     },
     "execution_count": 10,
     "metadata": {},
     "output_type": "execute_result"
    }
   ],
   "source": [
    "attacks"
   ]
  },
  {
   "cell_type": "markdown",
   "id": "ddaf4a89",
   "metadata": {
    "id": "xK5aqn-KYz_v"
   },
   "source": [
    "### Reading 10% of the data\n"
   ]
  },
  {
   "cell_type": "code",
   "execution_count": 11,
   "id": "13110681",
   "metadata": {
    "id": "N1KST3F2ZAYf"
   },
   "outputs": [],
   "source": [
    "df=pd.read_csv('kddcup.data_10_percent.gz',names=columns)"
   ]
  },
  {
   "cell_type": "code",
   "execution_count": 12,
   "id": "7694a364",
   "metadata": {
    "colab": {
     "base_uri": "https://localhost:8080/"
    },
    "id": "O8KWS3jqehwM",
    "outputId": "17e880b7-d1e3-410e-9314-edb05b4db552"
   },
   "outputs": [
    {
     "data": {
      "text/plain": [
       "array(['normal.', 'buffer_overflow.', 'loadmodule.', 'perl.', 'neptune.',\n",
       "       'smurf.', 'guess_passwd.', 'pod.', 'teardrop.', 'portsweep.',\n",
       "       'ipsweep.', 'land.', 'ftp_write.', 'back.', 'imap.', 'satan.',\n",
       "       'phf.', 'nmap.', 'multihop.', 'warezmaster.', 'warezclient.',\n",
       "       'spy.', 'rootkit.'], dtype=object)"
      ]
     },
     "execution_count": 12,
     "metadata": {},
     "output_type": "execute_result"
    }
   ],
   "source": [
    "df['target'].unique()"
   ]
  },
  {
   "cell_type": "markdown",
   "id": "2eba12c7",
   "metadata": {
    "id": "Q3USxk50fEJi"
   },
   "source": [
    "### Merging the attack types"
   ]
  },
  {
   "cell_type": "code",
   "execution_count": 13,
   "id": "ff832da8",
   "metadata": {
    "id": "wxdTssAtfMaZ"
   },
   "outputs": [],
   "source": [
    "df['target']=df['target'].apply(lambda x:attacks[x[:-1]])"
   ]
  },
  {
   "cell_type": "markdown",
   "id": "e8505d34",
   "metadata": {
    "id": "3_fkPYU0ZIFW"
   },
   "source": [
    "## Data Exploration"
   ]
  },
  {
   "cell_type": "code",
   "execution_count": 14,
   "id": "596e9cf6",
   "metadata": {
    "colab": {
     "base_uri": "https://localhost:8080/",
     "height": 456
    },
    "id": "nxuL9Zt6ZQdh",
    "outputId": "632fcb86-cd8f-4766-cf14-8fb98acec42f"
   },
   "outputs": [
    {
     "data": {
      "text/html": [
       "<div>\n",
       "<style scoped>\n",
       "    .dataframe tbody tr th:only-of-type {\n",
       "        vertical-align: middle;\n",
       "    }\n",
       "\n",
       "    .dataframe tbody tr th {\n",
       "        vertical-align: top;\n",
       "    }\n",
       "\n",
       "    .dataframe thead th {\n",
       "        text-align: right;\n",
       "    }\n",
       "</style>\n",
       "<table border=\"1\" class=\"dataframe\">\n",
       "  <thead>\n",
       "    <tr style=\"text-align: right;\">\n",
       "      <th></th>\n",
       "      <th>duration</th>\n",
       "      <th>protocol_type</th>\n",
       "      <th>service</th>\n",
       "      <th>flag</th>\n",
       "      <th>src_bytes</th>\n",
       "      <th>dst_bytes</th>\n",
       "      <th>land</th>\n",
       "      <th>wrong_fragment</th>\n",
       "      <th>urgent</th>\n",
       "      <th>hot</th>\n",
       "      <th>...</th>\n",
       "      <th>dst_host_srv_count</th>\n",
       "      <th>dst_host_same_srv_rate</th>\n",
       "      <th>dst_host_diff_srv_rate</th>\n",
       "      <th>dst_host_same_src_port_rate</th>\n",
       "      <th>dst_host_srv_diff_host_rate</th>\n",
       "      <th>dst_host_serror_rate</th>\n",
       "      <th>dst_host_srv_serror_rate</th>\n",
       "      <th>dst_host_rerror_rate</th>\n",
       "      <th>dst_host_srv_rerror_rate</th>\n",
       "      <th>target</th>\n",
       "    </tr>\n",
       "  </thead>\n",
       "  <tbody>\n",
       "    <tr>\n",
       "      <th>0</th>\n",
       "      <td>0</td>\n",
       "      <td>tcp</td>\n",
       "      <td>http</td>\n",
       "      <td>SF</td>\n",
       "      <td>181</td>\n",
       "      <td>5450</td>\n",
       "      <td>0</td>\n",
       "      <td>0</td>\n",
       "      <td>0</td>\n",
       "      <td>0</td>\n",
       "      <td>...</td>\n",
       "      <td>9</td>\n",
       "      <td>1.0</td>\n",
       "      <td>0.0</td>\n",
       "      <td>0.11</td>\n",
       "      <td>0.00</td>\n",
       "      <td>0.0</td>\n",
       "      <td>0.0</td>\n",
       "      <td>0.0</td>\n",
       "      <td>0.0</td>\n",
       "      <td>normal</td>\n",
       "    </tr>\n",
       "    <tr>\n",
       "      <th>1</th>\n",
       "      <td>0</td>\n",
       "      <td>tcp</td>\n",
       "      <td>http</td>\n",
       "      <td>SF</td>\n",
       "      <td>239</td>\n",
       "      <td>486</td>\n",
       "      <td>0</td>\n",
       "      <td>0</td>\n",
       "      <td>0</td>\n",
       "      <td>0</td>\n",
       "      <td>...</td>\n",
       "      <td>19</td>\n",
       "      <td>1.0</td>\n",
       "      <td>0.0</td>\n",
       "      <td>0.05</td>\n",
       "      <td>0.00</td>\n",
       "      <td>0.0</td>\n",
       "      <td>0.0</td>\n",
       "      <td>0.0</td>\n",
       "      <td>0.0</td>\n",
       "      <td>normal</td>\n",
       "    </tr>\n",
       "    <tr>\n",
       "      <th>2</th>\n",
       "      <td>0</td>\n",
       "      <td>tcp</td>\n",
       "      <td>http</td>\n",
       "      <td>SF</td>\n",
       "      <td>235</td>\n",
       "      <td>1337</td>\n",
       "      <td>0</td>\n",
       "      <td>0</td>\n",
       "      <td>0</td>\n",
       "      <td>0</td>\n",
       "      <td>...</td>\n",
       "      <td>29</td>\n",
       "      <td>1.0</td>\n",
       "      <td>0.0</td>\n",
       "      <td>0.03</td>\n",
       "      <td>0.00</td>\n",
       "      <td>0.0</td>\n",
       "      <td>0.0</td>\n",
       "      <td>0.0</td>\n",
       "      <td>0.0</td>\n",
       "      <td>normal</td>\n",
       "    </tr>\n",
       "    <tr>\n",
       "      <th>3</th>\n",
       "      <td>0</td>\n",
       "      <td>tcp</td>\n",
       "      <td>http</td>\n",
       "      <td>SF</td>\n",
       "      <td>219</td>\n",
       "      <td>1337</td>\n",
       "      <td>0</td>\n",
       "      <td>0</td>\n",
       "      <td>0</td>\n",
       "      <td>0</td>\n",
       "      <td>...</td>\n",
       "      <td>39</td>\n",
       "      <td>1.0</td>\n",
       "      <td>0.0</td>\n",
       "      <td>0.03</td>\n",
       "      <td>0.00</td>\n",
       "      <td>0.0</td>\n",
       "      <td>0.0</td>\n",
       "      <td>0.0</td>\n",
       "      <td>0.0</td>\n",
       "      <td>normal</td>\n",
       "    </tr>\n",
       "    <tr>\n",
       "      <th>4</th>\n",
       "      <td>0</td>\n",
       "      <td>tcp</td>\n",
       "      <td>http</td>\n",
       "      <td>SF</td>\n",
       "      <td>217</td>\n",
       "      <td>2032</td>\n",
       "      <td>0</td>\n",
       "      <td>0</td>\n",
       "      <td>0</td>\n",
       "      <td>0</td>\n",
       "      <td>...</td>\n",
       "      <td>49</td>\n",
       "      <td>1.0</td>\n",
       "      <td>0.0</td>\n",
       "      <td>0.02</td>\n",
       "      <td>0.00</td>\n",
       "      <td>0.0</td>\n",
       "      <td>0.0</td>\n",
       "      <td>0.0</td>\n",
       "      <td>0.0</td>\n",
       "      <td>normal</td>\n",
       "    </tr>\n",
       "    <tr>\n",
       "      <th>5</th>\n",
       "      <td>0</td>\n",
       "      <td>tcp</td>\n",
       "      <td>http</td>\n",
       "      <td>SF</td>\n",
       "      <td>217</td>\n",
       "      <td>2032</td>\n",
       "      <td>0</td>\n",
       "      <td>0</td>\n",
       "      <td>0</td>\n",
       "      <td>0</td>\n",
       "      <td>...</td>\n",
       "      <td>59</td>\n",
       "      <td>1.0</td>\n",
       "      <td>0.0</td>\n",
       "      <td>0.02</td>\n",
       "      <td>0.00</td>\n",
       "      <td>0.0</td>\n",
       "      <td>0.0</td>\n",
       "      <td>0.0</td>\n",
       "      <td>0.0</td>\n",
       "      <td>normal</td>\n",
       "    </tr>\n",
       "    <tr>\n",
       "      <th>6</th>\n",
       "      <td>0</td>\n",
       "      <td>tcp</td>\n",
       "      <td>http</td>\n",
       "      <td>SF</td>\n",
       "      <td>212</td>\n",
       "      <td>1940</td>\n",
       "      <td>0</td>\n",
       "      <td>0</td>\n",
       "      <td>0</td>\n",
       "      <td>0</td>\n",
       "      <td>...</td>\n",
       "      <td>69</td>\n",
       "      <td>1.0</td>\n",
       "      <td>0.0</td>\n",
       "      <td>1.00</td>\n",
       "      <td>0.04</td>\n",
       "      <td>0.0</td>\n",
       "      <td>0.0</td>\n",
       "      <td>0.0</td>\n",
       "      <td>0.0</td>\n",
       "      <td>normal</td>\n",
       "    </tr>\n",
       "    <tr>\n",
       "      <th>7</th>\n",
       "      <td>0</td>\n",
       "      <td>tcp</td>\n",
       "      <td>http</td>\n",
       "      <td>SF</td>\n",
       "      <td>159</td>\n",
       "      <td>4087</td>\n",
       "      <td>0</td>\n",
       "      <td>0</td>\n",
       "      <td>0</td>\n",
       "      <td>0</td>\n",
       "      <td>...</td>\n",
       "      <td>79</td>\n",
       "      <td>1.0</td>\n",
       "      <td>0.0</td>\n",
       "      <td>0.09</td>\n",
       "      <td>0.04</td>\n",
       "      <td>0.0</td>\n",
       "      <td>0.0</td>\n",
       "      <td>0.0</td>\n",
       "      <td>0.0</td>\n",
       "      <td>normal</td>\n",
       "    </tr>\n",
       "    <tr>\n",
       "      <th>8</th>\n",
       "      <td>0</td>\n",
       "      <td>tcp</td>\n",
       "      <td>http</td>\n",
       "      <td>SF</td>\n",
       "      <td>210</td>\n",
       "      <td>151</td>\n",
       "      <td>0</td>\n",
       "      <td>0</td>\n",
       "      <td>0</td>\n",
       "      <td>0</td>\n",
       "      <td>...</td>\n",
       "      <td>89</td>\n",
       "      <td>1.0</td>\n",
       "      <td>0.0</td>\n",
       "      <td>0.12</td>\n",
       "      <td>0.04</td>\n",
       "      <td>0.0</td>\n",
       "      <td>0.0</td>\n",
       "      <td>0.0</td>\n",
       "      <td>0.0</td>\n",
       "      <td>normal</td>\n",
       "    </tr>\n",
       "    <tr>\n",
       "      <th>9</th>\n",
       "      <td>0</td>\n",
       "      <td>tcp</td>\n",
       "      <td>http</td>\n",
       "      <td>SF</td>\n",
       "      <td>212</td>\n",
       "      <td>786</td>\n",
       "      <td>0</td>\n",
       "      <td>0</td>\n",
       "      <td>0</td>\n",
       "      <td>1</td>\n",
       "      <td>...</td>\n",
       "      <td>99</td>\n",
       "      <td>1.0</td>\n",
       "      <td>0.0</td>\n",
       "      <td>0.12</td>\n",
       "      <td>0.05</td>\n",
       "      <td>0.0</td>\n",
       "      <td>0.0</td>\n",
       "      <td>0.0</td>\n",
       "      <td>0.0</td>\n",
       "      <td>normal</td>\n",
       "    </tr>\n",
       "  </tbody>\n",
       "</table>\n",
       "<p>10 rows × 42 columns</p>\n",
       "</div>"
      ],
      "text/plain": [
       "   duration protocol_type service flag  src_bytes  dst_bytes  land  \\\n",
       "0         0           tcp    http   SF        181       5450     0   \n",
       "1         0           tcp    http   SF        239        486     0   \n",
       "2         0           tcp    http   SF        235       1337     0   \n",
       "3         0           tcp    http   SF        219       1337     0   \n",
       "4         0           tcp    http   SF        217       2032     0   \n",
       "5         0           tcp    http   SF        217       2032     0   \n",
       "6         0           tcp    http   SF        212       1940     0   \n",
       "7         0           tcp    http   SF        159       4087     0   \n",
       "8         0           tcp    http   SF        210        151     0   \n",
       "9         0           tcp    http   SF        212        786     0   \n",
       "\n",
       "   wrong_fragment  urgent  hot  ...  dst_host_srv_count  \\\n",
       "0               0       0    0  ...                   9   \n",
       "1               0       0    0  ...                  19   \n",
       "2               0       0    0  ...                  29   \n",
       "3               0       0    0  ...                  39   \n",
       "4               0       0    0  ...                  49   \n",
       "5               0       0    0  ...                  59   \n",
       "6               0       0    0  ...                  69   \n",
       "7               0       0    0  ...                  79   \n",
       "8               0       0    0  ...                  89   \n",
       "9               0       0    1  ...                  99   \n",
       "\n",
       "   dst_host_same_srv_rate  dst_host_diff_srv_rate  \\\n",
       "0                     1.0                     0.0   \n",
       "1                     1.0                     0.0   \n",
       "2                     1.0                     0.0   \n",
       "3                     1.0                     0.0   \n",
       "4                     1.0                     0.0   \n",
       "5                     1.0                     0.0   \n",
       "6                     1.0                     0.0   \n",
       "7                     1.0                     0.0   \n",
       "8                     1.0                     0.0   \n",
       "9                     1.0                     0.0   \n",
       "\n",
       "   dst_host_same_src_port_rate  dst_host_srv_diff_host_rate  \\\n",
       "0                         0.11                         0.00   \n",
       "1                         0.05                         0.00   \n",
       "2                         0.03                         0.00   \n",
       "3                         0.03                         0.00   \n",
       "4                         0.02                         0.00   \n",
       "5                         0.02                         0.00   \n",
       "6                         1.00                         0.04   \n",
       "7                         0.09                         0.04   \n",
       "8                         0.12                         0.04   \n",
       "9                         0.12                         0.05   \n",
       "\n",
       "   dst_host_serror_rate  dst_host_srv_serror_rate  dst_host_rerror_rate  \\\n",
       "0                   0.0                       0.0                   0.0   \n",
       "1                   0.0                       0.0                   0.0   \n",
       "2                   0.0                       0.0                   0.0   \n",
       "3                   0.0                       0.0                   0.0   \n",
       "4                   0.0                       0.0                   0.0   \n",
       "5                   0.0                       0.0                   0.0   \n",
       "6                   0.0                       0.0                   0.0   \n",
       "7                   0.0                       0.0                   0.0   \n",
       "8                   0.0                       0.0                   0.0   \n",
       "9                   0.0                       0.0                   0.0   \n",
       "\n",
       "   dst_host_srv_rerror_rate  target  \n",
       "0                       0.0  normal  \n",
       "1                       0.0  normal  \n",
       "2                       0.0  normal  \n",
       "3                       0.0  normal  \n",
       "4                       0.0  normal  \n",
       "5                       0.0  normal  \n",
       "6                       0.0  normal  \n",
       "7                       0.0  normal  \n",
       "8                       0.0  normal  \n",
       "9                       0.0  normal  \n",
       "\n",
       "[10 rows x 42 columns]"
      ]
     },
     "execution_count": 14,
     "metadata": {},
     "output_type": "execute_result"
    }
   ],
   "source": [
    "df.head(10)"
   ]
  },
  {
   "cell_type": "markdown",
   "id": "d0d7a4f7",
   "metadata": {
    "id": "6n9dKdvTa49E"
   },
   "source": [
    "### Getting the categorical columns"
   ]
  },
  {
   "cell_type": "code",
   "execution_count": 15,
   "id": "4ad21841",
   "metadata": {
    "id": "DR3pPJhNaeP0"
   },
   "outputs": [],
   "source": [
    "cat_columns=df.select_dtypes(include=['object']).columns.tolist()"
   ]
  },
  {
   "cell_type": "code",
   "execution_count": 16,
   "id": "96aa5350",
   "metadata": {
    "colab": {
     "base_uri": "https://localhost:8080/"
    },
    "id": "ngUrB_fLamoc",
    "outputId": "53bdc307-41dc-44a7-b3a7-538ea948c2aa"
   },
   "outputs": [
    {
     "data": {
      "text/plain": [
       "['protocol_type', 'service', 'flag', 'target']"
      ]
     },
     "execution_count": 16,
     "metadata": {},
     "output_type": "execute_result"
    }
   ],
   "source": [
    "cat_columns"
   ]
  },
  {
   "cell_type": "markdown",
   "id": "2d6e28e9",
   "metadata": {
    "id": "JWAFVj17a9Tp"
   },
   "source": [
    "### Checking for null values"
   ]
  },
  {
   "cell_type": "code",
   "execution_count": 17,
   "id": "038055a8",
   "metadata": {
    "colab": {
     "base_uri": "https://localhost:8080/"
    },
    "id": "8lr5srvUapDR",
    "outputId": "2a9ba69d-22ec-40a2-811b-dedcd5b24de7"
   },
   "outputs": [
    {
     "data": {
      "text/plain": [
       "duration                       0\n",
       "protocol_type                  0\n",
       "service                        0\n",
       "flag                           0\n",
       "src_bytes                      0\n",
       "dst_bytes                      0\n",
       "land                           0\n",
       "wrong_fragment                 0\n",
       "urgent                         0\n",
       "hot                            0\n",
       "num_failed_logins              0\n",
       "logged_in                      0\n",
       "num_compromised                0\n",
       "root_shell                     0\n",
       "su_attempted                   0\n",
       "num_root                       0\n",
       "num_file_creations             0\n",
       "num_shells                     0\n",
       "num_access_files               0\n",
       "num_outbound_cmds              0\n",
       "is_host_login                  0\n",
       "is_guest_login                 0\n",
       "count                          0\n",
       "srv_count                      0\n",
       "serror_rate                    0\n",
       "srv_serror_rate                0\n",
       "rerror_rate                    0\n",
       "srv_rerror_rate                0\n",
       "same_srv_rate                  0\n",
       "diff_srv_rate                  0\n",
       "srv_diff_host_rate             0\n",
       "dst_host_count                 0\n",
       "dst_host_srv_count             0\n",
       "dst_host_same_srv_rate         0\n",
       "dst_host_diff_srv_rate         0\n",
       "dst_host_same_src_port_rate    0\n",
       "dst_host_srv_diff_host_rate    0\n",
       "dst_host_serror_rate           0\n",
       "dst_host_srv_serror_rate       0\n",
       "dst_host_rerror_rate           0\n",
       "dst_host_srv_rerror_rate       0\n",
       "target                         0\n",
       "dtype: int64"
      ]
     },
     "execution_count": 17,
     "metadata": {},
     "output_type": "execute_result"
    }
   ],
   "source": [
    "df.isnull().sum()"
   ]
  },
  {
   "cell_type": "markdown",
   "id": "6d6cdcf2",
   "metadata": {
    "id": "ZMWZ62ZtbBK-"
   },
   "source": [
    "No Null values in the dataframe"
   ]
  },
  {
   "cell_type": "markdown",
   "id": "2fac7f48",
   "metadata": {
    "id": "mGHBokNwbPmq"
   },
   "source": [
    "### Performing EDA"
   ]
  },
  {
   "cell_type": "code",
   "execution_count": 18,
   "id": "ddec2122",
   "metadata": {
    "colab": {
     "base_uri": "https://localhost:8080/",
     "height": 307
    },
    "id": "S2a8WU5NatTF",
    "outputId": "24178182-4f9e-4e70-a5ee-c42ed4696964"
   },
   "outputs": [
    {
     "data": {
      "text/plain": [
       "<AxesSubplot:>"
      ]
     },
     "execution_count": 18,
     "metadata": {},
     "output_type": "execute_result"
    },
    {
     "data": {
      "image/png": "[encoded data removed]",
      "text/plain": [
       "<Figure size 432x288 with 1 Axes>"
      ]
     },
     "metadata": {
      "needs_background": "light"
     },
     "output_type": "display_data"
    }
   ],
   "source": [
    "df['target'].value_counts().plot(kind='bar')"
   ]
  },
  {
   "cell_type": "markdown",
   "id": "e76b6ef6",
   "metadata": {
    "id": "e-w8A72Hfhfd"
   },
   "source": [
    "We see that the dos is highest in the data followed by normal while probe,r21 and u2r has very low requests"
   ]
  },
  {
   "cell_type": "code",
   "execution_count": 19,
   "id": "84d4d8e1",
   "metadata": {
    "colab": {
     "base_uri": "https://localhost:8080/",
     "height": 297
    },
    "id": "XIsK8LHMbWtR",
    "outputId": "89010183-b329-4179-bddb-c1eeaf81f387"
   },
   "outputs": [
    {
     "data": {
      "text/plain": [
       "<AxesSubplot:>"
      ]
     },
     "execution_count": 19,
     "metadata": {},
     "output_type": "execute_result"
    },
    {
     "data": {
      "image/png": "[encoded data removed]",
      "text/plain": [
       "<Figure size 432x288 with 1 Axes>"
      ]
     },
     "metadata": {
      "needs_background": "light"
     },
     "output_type": "display_data"
    }
   ],
   "source": [
    "df['protocol_type'].value_counts().plot(kind='bar')"
   ]
  },
  {
   "cell_type": "markdown",
   "id": "0d3b0c34",
   "metadata": {
    "id": "ivWS16Nmf66z"
   },
   "source": [
    "ICMP has the highest presence in the data followed by tcp and udp"
   ]
  },
  {
   "cell_type": "code",
   "execution_count": 20,
   "id": "e9bae194",
   "metadata": {
    "colab": {
     "base_uri": "https://localhost:8080/",
     "height": 312
    },
    "id": "Df446pcOdDKM",
    "outputId": "309a57ae-72d5-41e2-d273-0b8c84f5a862"
   },
   "outputs": [
    {
     "data": {
      "text/plain": [
       "<AxesSubplot:>"
      ]
     },
     "execution_count": 20,
     "metadata": {},
     "output_type": "execute_result"
    },
    {
     "data": {
      "image/png": "[encoded data removed]",
      "text/plain": [
       "<Figure size 432x288 with 1 Axes>"
      ]
     },
     "metadata": {
      "needs_background": "light"
     },
     "output_type": "display_data"
    }
   ],
   "source": [
    "df['flag'].value_counts().plot(kind='bar')"
   ]
  },
  {
   "cell_type": "code",
   "execution_count": 21,
   "id": "38299dca",
   "metadata": {
    "colab": {
     "base_uri": "https://localhost:8080/",
     "height": 445
    },
    "id": "h2KHt0TQd4ho",
    "outputId": "3640292f-7fe2-47a1-9d60-81b343891c89"
   },
   "outputs": [
    {
     "data": {
      "text/plain": [
       "<AxesSubplot:>"
      ]
     },
     "execution_count": 21,
     "metadata": {},
     "output_type": "execute_result"
    },
    {
     "data": {
      "image/png": "[encoded data removed]",
      "text/plain": [
       "<Figure size 1440x432 with 1 Axes>"
      ]
     },
     "metadata": {
      "needs_background": "light"
     },
     "output_type": "display_data"
    }
   ],
   "source": [
    "plt.figure(figsize=(20,6))\n",
    "df['service'].value_counts().plot(kind='bar')"
   ]
  },
  {
   "cell_type": "markdown",
   "id": "f2883c61",
   "metadata": {
    "id": "UQHNWbpbgG-5"
   },
   "source": [
    "## Preprocessing the data"
   ]
  },
  {
   "cell_type": "markdown",
   "id": "fe81584a",
   "metadata": {
    "id": "e8XAvuY8gMDS"
   },
   "source": [
    "### Finding the highly correlated columns and removing them"
   ]
  },
  {
   "cell_type": "code",
   "execution_count": 22,
   "id": "3a16c898",
   "metadata": {
    "colab": {
     "base_uri": "https://localhost:8080/",
     "height": 638
    },
    "id": "QzZn-0Avd75h",
    "outputId": "386ed7fc-3b84-468f-e8f9-ac220bbbc6ac"
   },
   "outputs": [
    {
     "data": {
      "text/plain": [
       "<AxesSubplot:>"
      ]
     },
     "execution_count": 22,
     "metadata": {},
     "output_type": "execute_result"
    },
    {
     "data": {
      "image/png": "[encoded data removed]",
      "text/plain": [
       "<Figure size 720x576 with 2 Axes>"
      ]
     },
     "metadata": {
      "needs_background": "light"
     },
     "output_type": "display_data"
    }
   ],
   "source": [
    "plt.figure(figsize=(10,8))\n",
    "sns.heatmap(df.corr())"
   ]
  },
  {
   "cell_type": "markdown",
   "id": "7d04c85f",
   "metadata": {
    "id": "44ZXRV3EhN3e"
   },
   "source": [
    "Removing the useless num_outbound_cmds column because its a zero array"
   ]
  },
  {
   "cell_type": "markdown",
   "id": "1ae371ff",
   "metadata": {
    "id": "jJCFXW6Vg-4x"
   },
   "source": [
    "### Removing Highly Correlated Features"
   ]
  },
  {
   "cell_type": "code",
   "execution_count": 23,
   "id": "b79f77f2",
   "metadata": {
    "colab": {
     "base_uri": "https://localhost:8080/"
    },
    "id": "OL6ANtzKgU1p",
    "outputId": "e238cc98-74ac-4ca0-a531-fc9f47d2c2d2"
   },
   "outputs": [
    {
     "name": "stderr",
     "output_type": "stream",
     "text": [
      "C:\\Users\\rafay\\AppData\\Local\\Temp\\ipykernel_11420\\2731660182.py:4: DeprecationWarning: `np.bool` is a deprecated alias for the builtin `bool`. To silence this warning, use `bool` by itself. Doing this will not modify any behavior and is safe. If you specifically wanted the numpy scalar type, use `np.bool_` here.\n",
      "Deprecated in NumPy 1.20; for more details and guidance: https://numpy.org/devdocs/release/1.20.0-notes.html#deprecations\n",
      "  upper = corr_matrix.where(np.triu(np.ones(corr_matrix.shape), k=1).astype(np.bool))\n"
     ]
    }
   ],
   "source": [
    "corr_matrix = df.corr().abs()\n",
    "\n",
    "# Select upper triangle of correlation matrix\n",
    "upper = corr_matrix.where(np.triu(np.ones(corr_matrix.shape), k=1).astype(np.bool))\n",
    "\n",
    "# Find index of feature columns with correlation greater than 0.95\n",
    "to_drop = [column for column in upper.columns if any(upper[column] > 0.95)]"
   ]
  },
  {
   "cell_type": "markdown",
   "id": "049abeaf",
   "metadata": {},
   "source": [
    "Both are 0 arrays with 0 correlation to data"
   ]
  },
  {
   "cell_type": "code",
   "execution_count": 24,
   "id": "e94e52b6",
   "metadata": {
    "colab": {
     "base_uri": "https://localhost:8080/"
    },
    "id": "Aj7a-cFeg0hy",
    "outputId": "51868b2c-72e3-4e11-b732-6f9b78d53811",
    "scrolled": true
   },
   "outputs": [],
   "source": [
    "to_drop.append('is_host_login')\n",
    "to_drop.append('num_outbound_cmds')"
   ]
  },
  {
   "cell_type": "code",
   "execution_count": 25,
   "id": "1154afe6",
   "metadata": {},
   "outputs": [
    {
     "data": {
      "text/plain": [
       "['num_root',\n",
       " 'srv_serror_rate',\n",
       " 'srv_rerror_rate',\n",
       " 'dst_host_same_srv_rate',\n",
       " 'dst_host_serror_rate',\n",
       " 'dst_host_srv_serror_rate',\n",
       " 'dst_host_rerror_rate',\n",
       " 'dst_host_srv_rerror_rate',\n",
       " 'is_host_login',\n",
       " 'num_outbound_cmds']"
      ]
     },
     "execution_count": 25,
     "metadata": {},
     "output_type": "execute_result"
    }
   ],
   "source": [
    "to_drop"
   ]
  },
  {
   "cell_type": "code",
   "execution_count": 26,
   "id": "40c25424",
   "metadata": {
    "id": "wGPTSX6Cirz_"
   },
   "outputs": [],
   "source": [
    "df.drop(to_drop,axis=1,inplace=True)"
   ]
  },
  {
   "cell_type": "code",
   "execution_count": 27,
   "id": "ea51f156",
   "metadata": {
    "colab": {
     "base_uri": "https://localhost:8080/",
     "height": 456
    },
    "id": "CBLKrHIVi6Ct",
    "outputId": "d4f4d1ef-2c06-403a-a7f5-6e872fb94471",
    "scrolled": true
   },
   "outputs": [
    {
     "data": {
      "text/html": [
       "<div>\n",
       "<style scoped>\n",
       "    .dataframe tbody tr th:only-of-type {\n",
       "        vertical-align: middle;\n",
       "    }\n",
       "\n",
       "    .dataframe tbody tr th {\n",
       "        vertical-align: top;\n",
       "    }\n",
       "\n",
       "    .dataframe thead th {\n",
       "        text-align: right;\n",
       "    }\n",
       "</style>\n",
       "<table border=\"1\" class=\"dataframe\">\n",
       "  <thead>\n",
       "    <tr style=\"text-align: right;\">\n",
       "      <th></th>\n",
       "      <th>duration</th>\n",
       "      <th>protocol_type</th>\n",
       "      <th>service</th>\n",
       "      <th>flag</th>\n",
       "      <th>src_bytes</th>\n",
       "      <th>dst_bytes</th>\n",
       "      <th>land</th>\n",
       "      <th>wrong_fragment</th>\n",
       "      <th>urgent</th>\n",
       "      <th>hot</th>\n",
       "      <th>...</th>\n",
       "      <th>rerror_rate</th>\n",
       "      <th>same_srv_rate</th>\n",
       "      <th>diff_srv_rate</th>\n",
       "      <th>srv_diff_host_rate</th>\n",
       "      <th>dst_host_count</th>\n",
       "      <th>dst_host_srv_count</th>\n",
       "      <th>dst_host_diff_srv_rate</th>\n",
       "      <th>dst_host_same_src_port_rate</th>\n",
       "      <th>dst_host_srv_diff_host_rate</th>\n",
       "      <th>target</th>\n",
       "    </tr>\n",
       "  </thead>\n",
       "  <tbody>\n",
       "    <tr>\n",
       "      <th>0</th>\n",
       "      <td>0</td>\n",
       "      <td>tcp</td>\n",
       "      <td>http</td>\n",
       "      <td>SF</td>\n",
       "      <td>181</td>\n",
       "      <td>5450</td>\n",
       "      <td>0</td>\n",
       "      <td>0</td>\n",
       "      <td>0</td>\n",
       "      <td>0</td>\n",
       "      <td>...</td>\n",
       "      <td>0.0</td>\n",
       "      <td>1.0</td>\n",
       "      <td>0.0</td>\n",
       "      <td>0.0</td>\n",
       "      <td>9</td>\n",
       "      <td>9</td>\n",
       "      <td>0.0</td>\n",
       "      <td>0.11</td>\n",
       "      <td>0.00</td>\n",
       "      <td>normal</td>\n",
       "    </tr>\n",
       "    <tr>\n",
       "      <th>1</th>\n",
       "      <td>0</td>\n",
       "      <td>tcp</td>\n",
       "      <td>http</td>\n",
       "      <td>SF</td>\n",
       "      <td>239</td>\n",
       "      <td>486</td>\n",
       "      <td>0</td>\n",
       "      <td>0</td>\n",
       "      <td>0</td>\n",
       "      <td>0</td>\n",
       "      <td>...</td>\n",
       "      <td>0.0</td>\n",
       "      <td>1.0</td>\n",
       "      <td>0.0</td>\n",
       "      <td>0.0</td>\n",
       "      <td>19</td>\n",
       "      <td>19</td>\n",
       "      <td>0.0</td>\n",
       "      <td>0.05</td>\n",
       "      <td>0.00</td>\n",
       "      <td>normal</td>\n",
       "    </tr>\n",
       "    <tr>\n",
       "      <th>2</th>\n",
       "      <td>0</td>\n",
       "      <td>tcp</td>\n",
       "      <td>http</td>\n",
       "      <td>SF</td>\n",
       "      <td>235</td>\n",
       "      <td>1337</td>\n",
       "      <td>0</td>\n",
       "      <td>0</td>\n",
       "      <td>0</td>\n",
       "      <td>0</td>\n",
       "      <td>...</td>\n",
       "      <td>0.0</td>\n",
       "      <td>1.0</td>\n",
       "      <td>0.0</td>\n",
       "      <td>0.0</td>\n",
       "      <td>29</td>\n",
       "      <td>29</td>\n",
       "      <td>0.0</td>\n",
       "      <td>0.03</td>\n",
       "      <td>0.00</td>\n",
       "      <td>normal</td>\n",
       "    </tr>\n",
       "    <tr>\n",
       "      <th>3</th>\n",
       "      <td>0</td>\n",
       "      <td>tcp</td>\n",
       "      <td>http</td>\n",
       "      <td>SF</td>\n",
       "      <td>219</td>\n",
       "      <td>1337</td>\n",
       "      <td>0</td>\n",
       "      <td>0</td>\n",
       "      <td>0</td>\n",
       "      <td>0</td>\n",
       "      <td>...</td>\n",
       "      <td>0.0</td>\n",
       "      <td>1.0</td>\n",
       "      <td>0.0</td>\n",
       "      <td>0.0</td>\n",
       "      <td>39</td>\n",
       "      <td>39</td>\n",
       "      <td>0.0</td>\n",
       "      <td>0.03</td>\n",
       "      <td>0.00</td>\n",
       "      <td>normal</td>\n",
       "    </tr>\n",
       "    <tr>\n",
       "      <th>4</th>\n",
       "      <td>0</td>\n",
       "      <td>tcp</td>\n",
       "      <td>http</td>\n",
       "      <td>SF</td>\n",
       "      <td>217</td>\n",
       "      <td>2032</td>\n",
       "      <td>0</td>\n",
       "      <td>0</td>\n",
       "      <td>0</td>\n",
       "      <td>0</td>\n",
       "      <td>...</td>\n",
       "      <td>0.0</td>\n",
       "      <td>1.0</td>\n",
       "      <td>0.0</td>\n",
       "      <td>0.0</td>\n",
       "      <td>49</td>\n",
       "      <td>49</td>\n",
       "      <td>0.0</td>\n",
       "      <td>0.02</td>\n",
       "      <td>0.00</td>\n",
       "      <td>normal</td>\n",
       "    </tr>\n",
       "    <tr>\n",
       "      <th>5</th>\n",
       "      <td>0</td>\n",
       "      <td>tcp</td>\n",
       "      <td>http</td>\n",
       "      <td>SF</td>\n",
       "      <td>217</td>\n",
       "      <td>2032</td>\n",
       "      <td>0</td>\n",
       "      <td>0</td>\n",
       "      <td>0</td>\n",
       "      <td>0</td>\n",
       "      <td>...</td>\n",
       "      <td>0.0</td>\n",
       "      <td>1.0</td>\n",
       "      <td>0.0</td>\n",
       "      <td>0.0</td>\n",
       "      <td>59</td>\n",
       "      <td>59</td>\n",
       "      <td>0.0</td>\n",
       "      <td>0.02</td>\n",
       "      <td>0.00</td>\n",
       "      <td>normal</td>\n",
       "    </tr>\n",
       "    <tr>\n",
       "      <th>6</th>\n",
       "      <td>0</td>\n",
       "      <td>tcp</td>\n",
       "      <td>http</td>\n",
       "      <td>SF</td>\n",
       "      <td>212</td>\n",
       "      <td>1940</td>\n",
       "      <td>0</td>\n",
       "      <td>0</td>\n",
       "      <td>0</td>\n",
       "      <td>0</td>\n",
       "      <td>...</td>\n",
       "      <td>0.0</td>\n",
       "      <td>1.0</td>\n",
       "      <td>0.0</td>\n",
       "      <td>1.0</td>\n",
       "      <td>1</td>\n",
       "      <td>69</td>\n",
       "      <td>0.0</td>\n",
       "      <td>1.00</td>\n",
       "      <td>0.04</td>\n",
       "      <td>normal</td>\n",
       "    </tr>\n",
       "    <tr>\n",
       "      <th>7</th>\n",
       "      <td>0</td>\n",
       "      <td>tcp</td>\n",
       "      <td>http</td>\n",
       "      <td>SF</td>\n",
       "      <td>159</td>\n",
       "      <td>4087</td>\n",
       "      <td>0</td>\n",
       "      <td>0</td>\n",
       "      <td>0</td>\n",
       "      <td>0</td>\n",
       "      <td>...</td>\n",
       "      <td>0.0</td>\n",
       "      <td>1.0</td>\n",
       "      <td>0.0</td>\n",
       "      <td>0.0</td>\n",
       "      <td>11</td>\n",
       "      <td>79</td>\n",
       "      <td>0.0</td>\n",
       "      <td>0.09</td>\n",
       "      <td>0.04</td>\n",
       "      <td>normal</td>\n",
       "    </tr>\n",
       "    <tr>\n",
       "      <th>8</th>\n",
       "      <td>0</td>\n",
       "      <td>tcp</td>\n",
       "      <td>http</td>\n",
       "      <td>SF</td>\n",
       "      <td>210</td>\n",
       "      <td>151</td>\n",
       "      <td>0</td>\n",
       "      <td>0</td>\n",
       "      <td>0</td>\n",
       "      <td>0</td>\n",
       "      <td>...</td>\n",
       "      <td>0.0</td>\n",
       "      <td>1.0</td>\n",
       "      <td>0.0</td>\n",
       "      <td>0.0</td>\n",
       "      <td>8</td>\n",
       "      <td>89</td>\n",
       "      <td>0.0</td>\n",
       "      <td>0.12</td>\n",
       "      <td>0.04</td>\n",
       "      <td>normal</td>\n",
       "    </tr>\n",
       "    <tr>\n",
       "      <th>9</th>\n",
       "      <td>0</td>\n",
       "      <td>tcp</td>\n",
       "      <td>http</td>\n",
       "      <td>SF</td>\n",
       "      <td>212</td>\n",
       "      <td>786</td>\n",
       "      <td>0</td>\n",
       "      <td>0</td>\n",
       "      <td>0</td>\n",
       "      <td>1</td>\n",
       "      <td>...</td>\n",
       "      <td>0.0</td>\n",
       "      <td>1.0</td>\n",
       "      <td>0.0</td>\n",
       "      <td>0.0</td>\n",
       "      <td>8</td>\n",
       "      <td>99</td>\n",
       "      <td>0.0</td>\n",
       "      <td>0.12</td>\n",
       "      <td>0.05</td>\n",
       "      <td>normal</td>\n",
       "    </tr>\n",
       "  </tbody>\n",
       "</table>\n",
       "<p>10 rows × 32 columns</p>\n",
       "</div>"
      ],
      "text/plain": [
       "   duration protocol_type service flag  src_bytes  dst_bytes  land  \\\n",
       "0         0           tcp    http   SF        181       5450     0   \n",
       "1         0           tcp    http   SF        239        486     0   \n",
       "2         0           tcp    http   SF        235       1337     0   \n",
       "3         0           tcp    http   SF        219       1337     0   \n",
       "4         0           tcp    http   SF        217       2032     0   \n",
       "5         0           tcp    http   SF        217       2032     0   \n",
       "6         0           tcp    http   SF        212       1940     0   \n",
       "7         0           tcp    http   SF        159       4087     0   \n",
       "8         0           tcp    http   SF        210        151     0   \n",
       "9         0           tcp    http   SF        212        786     0   \n",
       "\n",
       "   wrong_fragment  urgent  hot  ...  rerror_rate  same_srv_rate  \\\n",
       "0               0       0    0  ...          0.0            1.0   \n",
       "1               0       0    0  ...          0.0            1.0   \n",
       "2               0       0    0  ...          0.0            1.0   \n",
       "3               0       0    0  ...          0.0            1.0   \n",
       "4               0       0    0  ...          0.0            1.0   \n",
       "5               0       0    0  ...          0.0            1.0   \n",
       "6               0       0    0  ...          0.0            1.0   \n",
       "7               0       0    0  ...          0.0            1.0   \n",
       "8               0       0    0  ...          0.0            1.0   \n",
       "9               0       0    1  ...          0.0            1.0   \n",
       "\n",
       "   diff_srv_rate  srv_diff_host_rate  dst_host_count  dst_host_srv_count  \\\n",
       "0            0.0                 0.0               9                   9   \n",
       "1            0.0                 0.0              19                  19   \n",
       "2            0.0                 0.0              29                  29   \n",
       "3            0.0                 0.0              39                  39   \n",
       "4            0.0                 0.0              49                  49   \n",
       "5            0.0                 0.0              59                  59   \n",
       "6            0.0                 1.0               1                  69   \n",
       "7            0.0                 0.0              11                  79   \n",
       "8            0.0                 0.0               8                  89   \n",
       "9            0.0                 0.0               8                  99   \n",
       "\n",
       "   dst_host_diff_srv_rate  dst_host_same_src_port_rate  \\\n",
       "0                     0.0                         0.11   \n",
       "1                     0.0                         0.05   \n",
       "2                     0.0                         0.03   \n",
       "3                     0.0                         0.03   \n",
       "4                     0.0                         0.02   \n",
       "5                     0.0                         0.02   \n",
       "6                     0.0                         1.00   \n",
       "7                     0.0                         0.09   \n",
       "8                     0.0                         0.12   \n",
       "9                     0.0                         0.12   \n",
       "\n",
       "   dst_host_srv_diff_host_rate  target  \n",
       "0                         0.00  normal  \n",
       "1                         0.00  normal  \n",
       "2                         0.00  normal  \n",
       "3                         0.00  normal  \n",
       "4                         0.00  normal  \n",
       "5                         0.00  normal  \n",
       "6                         0.04  normal  \n",
       "7                         0.04  normal  \n",
       "8                         0.04  normal  \n",
       "9                         0.05  normal  \n",
       "\n",
       "[10 rows x 32 columns]"
      ]
     },
     "execution_count": 27,
     "metadata": {},
     "output_type": "execute_result"
    }
   ],
   "source": [
    "df.head(10)"
   ]
  },
  {
   "cell_type": "code",
   "execution_count": 28,
   "id": "dac39446",
   "metadata": {
    "scrolled": false
   },
   "outputs": [
    {
     "data": {
      "text/plain": [
       "dos       391458\n",
       "normal     97278\n",
       "probe       4107\n",
       "r2l         1126\n",
       "u2r           52\n",
       "Name: target, dtype: int64"
      ]
     },
     "execution_count": 28,
     "metadata": {},
     "output_type": "execute_result"
    }
   ],
   "source": [
    "df['target'].value_counts()"
   ]
  },
  {
   "cell_type": "markdown",
   "id": "3bca3bc1",
   "metadata": {
    "id": "IPBs2UYdm8Bl"
   },
   "source": [
    "## Performing Train test split"
   ]
  },
  {
   "cell_type": "code",
   "execution_count": 29,
   "id": "ae66e88a",
   "metadata": {
    "id": "8u5Zc807nBGA"
   },
   "outputs": [],
   "source": [
    "from sklearn.model_selection import train_test_split"
   ]
  },
  {
   "cell_type": "code",
   "execution_count": 30,
   "id": "62b46419",
   "metadata": {
    "id": "CHx1Nf9fnHty"
   },
   "outputs": [],
   "source": [
    "x=df.drop('target',axis=1)\n",
    "y=df['target']\n",
    "xtrain, xtest, ytrain, ytest = train_test_split(x, y, test_size=0.22, random_state=42)"
   ]
  },
  {
   "cell_type": "markdown",
   "id": "42186fe2",
   "metadata": {
    "id": "Qy-HUdn3kks5"
   },
   "source": [
    "## Encoding Data\n"
   ]
  },
  {
   "cell_type": "markdown",
   "id": "ae558d71",
   "metadata": {},
   "source": [
    "### Encoding categorical columns"
   ]
  },
  {
   "cell_type": "code",
   "execution_count": 31,
   "id": "89e446ea",
   "metadata": {
    "colab": {
     "base_uri": "https://localhost:8080/"
    },
    "id": "kWmHidGUneox",
    "outputId": "518d9ed9-5e36-45de-d614-d1d758df704d"
   },
   "outputs": [
    {
     "data": {
      "text/plain": [
       "['protocol_type', 'service', 'flag', 'target']"
      ]
     },
     "execution_count": 31,
     "metadata": {},
     "output_type": "execute_result"
    }
   ],
   "source": [
    "cat_columns"
   ]
  },
  {
   "cell_type": "code",
   "execution_count": 32,
   "id": "412c24df",
   "metadata": {
    "id": "erdS-OKunT33"
   },
   "outputs": [],
   "source": [
    "\n",
    "cat_columns=cat_columns[:-1]\n",
    "cat_columns.remove('service')"
   ]
  },
  {
   "cell_type": "code",
   "execution_count": 33,
   "id": "872950aa",
   "metadata": {
    "id": "fWjlIECongQx"
   },
   "outputs": [],
   "source": [
    "ordinal=['service']"
   ]
  },
  {
   "cell_type": "code",
   "execution_count": 34,
   "id": "2377ea0c",
   "metadata": {
    "colab": {
     "base_uri": "https://localhost:8080/"
    },
    "id": "Lsb7uIg0JYd8",
    "outputId": "8b9e2668-c2c8-47a8-ca46-a9221b697bac"
   },
   "outputs": [
    {
     "data": {
      "text/plain": [
       "['protocol_type', 'flag']"
      ]
     },
     "execution_count": 34,
     "metadata": {},
     "output_type": "execute_result"
    }
   ],
   "source": [
    "cat_columns"
   ]
  },
  {
   "cell_type": "code",
   "execution_count": 35,
   "id": "ecf90586",
   "metadata": {
    "colab": {
     "base_uri": "https://localhost:8080/"
    },
    "id": "PLbeomN5jBDf",
    "outputId": "c35cde95-2eb8-4cae-8c34-6d599ed05143"
   },
   "outputs": [],
   "source": [
    "from sklearn.preprocessing import OneHotEncoder\n",
    "from category_encoders import BinaryEncoder\n",
    "from sklearn.compose import make_column_transformer"
   ]
  },
  {
   "cell_type": "code",
   "execution_count": 36,
   "id": "a5fd4e16",
   "metadata": {
    "id": "cSNFM98rkB9m"
   },
   "outputs": [],
   "source": [
    "ct=make_column_transformer((OneHotEncoder(handle_unknown = 'ignore'),cat_columns),\n",
    "                           ( BinaryEncoder(),ordinal),\n",
    "                           remainder='passthrough')"
   ]
  },
  {
   "cell_type": "code",
   "execution_count": 37,
   "id": "0fc7bc2e",
   "metadata": {
    "colab": {
     "base_uri": "https://localhost:8080/"
    },
    "id": "dKv7CmUXktup",
    "outputId": "81a0fa95-dc74-4bef-b34f-fb23eca59b01",
    "scrolled": true
   },
   "outputs": [
    {
     "data": {
      "text/html": [
       "<style>#sk-container-id-1 {color: black;background-color: white;}#sk-container-id-1 pre{padding: 0;}#sk-container-id-1 div.sk-toggleable {background-color: white;}#sk-container-id-1 label.sk-toggleable__label {cursor: pointer;display: block;width: 100%;margin-bottom: 0;padding: 0.3em;box-sizing: border-box;text-align: center;}#sk-container-id-1 label.sk-toggleable__label-arrow:before {content: \"▸\";float: left;margin-right: 0.25em;color: #696969;}#sk-container-id-1 label.sk-toggleable__label-arrow:hover:before {color: black;}#sk-container-id-1 div.sk-estimator:hover label.sk-toggleable__label-arrow:before {color: black;}#sk-container-id-1 div.sk-toggleable__content {max-height: 0;max-width: 0;overflow: hidden;text-align: left;background-color: #f0f8ff;}#sk-container-id-1 div.sk-toggleable__content pre {margin: 0.2em;color: black;border-radius: 0.25em;background-color: #f0f8ff;}#sk-container-id-1 input.sk-toggleable__control:checked~div.sk-toggleable__content {max-height: 200px;max-width: 100%;overflow: auto;}#sk-container-id-1 input.sk-toggleable__control:checked~label.sk-toggleable__label-arrow:before {content: \"▾\";}#sk-container-id-1 div.sk-estimator input.sk-toggleable__control:checked~label.sk-toggleable__label {background-color: #d4ebff;}#sk-container-id-1 div.sk-label input.sk-toggleable__control:checked~label.sk-toggleable__label {background-color: #d4ebff;}#sk-container-id-1 input.sk-hidden--visually {border: 0;clip: rect(1px 1px 1px 1px);clip: rect(1px, 1px, 1px, 1px);height: 1px;margin: -1px;overflow: hidden;padding: 0;position: absolute;width: 1px;}#sk-container-id-1 div.sk-estimator {font-family: monospace;background-color: #f0f8ff;border: 1px dotted black;border-radius: 0.25em;box-sizing: border-box;margin-bottom: 0.5em;}#sk-container-id-1 div.sk-estimator:hover {background-color: #d4ebff;}#sk-container-id-1 div.sk-parallel-item::after {content: \"\";width: 100%;border-bottom: 1px solid gray;flex-grow: 1;}#sk-container-id-1 div.sk-label:hover label.sk-toggleable__label {background-color: #d4ebff;}#sk-container-id-1 div.sk-serial::before {content: \"\";position: absolute;border-left: 1px solid gray;box-sizing: border-box;top: 0;bottom: 0;left: 50%;z-index: 0;}#sk-container-id-1 div.sk-serial {display: flex;flex-direction: column;align-items: center;background-color: white;padding-right: 0.2em;padding-left: 0.2em;position: relative;}#sk-container-id-1 div.sk-item {position: relative;z-index: 1;}#sk-container-id-1 div.sk-parallel {display: flex;align-items: stretch;justify-content: center;background-color: white;position: relative;}#sk-container-id-1 div.sk-item::before, #sk-container-id-1 div.sk-parallel-item::before {content: \"\";position: absolute;border-left: 1px solid gray;box-sizing: border-box;top: 0;bottom: 0;left: 50%;z-index: -1;}#sk-container-id-1 div.sk-parallel-item {display: flex;flex-direction: column;z-index: 1;position: relative;background-color: white;}#sk-container-id-1 div.sk-parallel-item:first-child::after {align-self: flex-end;width: 50%;}#sk-container-id-1 div.sk-parallel-item:last-child::after {align-self: flex-start;width: 50%;}#sk-container-id-1 div.sk-parallel-item:only-child::after {width: 0;}#sk-container-id-1 div.sk-dashed-wrapped {border: 1px dashed gray;margin: 0 0.4em 0.5em 0.4em;box-sizing: border-box;padding-bottom: 0.4em;background-color: white;}#sk-container-id-1 div.sk-label label {font-family: monospace;font-weight: bold;display: inline-block;line-height: 1.2em;}#sk-container-id-1 div.sk-label-container {text-align: center;}#sk-container-id-1 div.sk-container {/* jupyter's `normalize.less` sets `[hidden] { display: none; }` but bootstrap.min.css set `[hidden] { display: none !important; }` so we also need the `!important` here to be able to override the default hidden behavior on the sphinx rendered scikit-learn.org. See: https://github.com/scikit-learn/scikit-learn/issues/21755 */display: inline-block !important;position: relative;}#sk-container-id-1 div.sk-text-repr-fallback {display: none;}</style><div id=\"sk-container-id-1\" class=\"sk-top-container\"><div class=\"sk-text-repr-fallback\"><pre>ColumnTransformer(remainder=&#x27;passthrough&#x27;,\n",
       "                  transformers=[(&#x27;onehotencoder&#x27;,\n",
       "                                 OneHotEncoder(handle_unknown=&#x27;ignore&#x27;),\n",
       "                                 [&#x27;protocol_type&#x27;, &#x27;flag&#x27;]),\n",
       "                                (&#x27;binaryencoder&#x27;, BinaryEncoder(),\n",
       "                                 [&#x27;service&#x27;])])</pre><b>In a Jupyter environment, please rerun this cell to show the HTML representation or trust the notebook. <br />On GitHub, the HTML representation is unable to render, please try loading this page with nbviewer.org.</b></div><div class=\"sk-container\" hidden><div class=\"sk-item sk-dashed-wrapped\"><div class=\"sk-label-container\"><div class=\"sk-label sk-toggleable\"><input class=\"sk-toggleable__control sk-hidden--visually\" id=\"sk-estimator-id-1\" type=\"checkbox\" ><label for=\"sk-estimator-id-1\" class=\"sk-toggleable__label sk-toggleable__label-arrow\">ColumnTransformer</label><div class=\"sk-toggleable__content\"><pre>ColumnTransformer(remainder=&#x27;passthrough&#x27;,\n",
       "                  transformers=[(&#x27;onehotencoder&#x27;,\n",
       "                                 OneHotEncoder(handle_unknown=&#x27;ignore&#x27;),\n",
       "                                 [&#x27;protocol_type&#x27;, &#x27;flag&#x27;]),\n",
       "                                (&#x27;binaryencoder&#x27;, BinaryEncoder(),\n",
       "                                 [&#x27;service&#x27;])])</pre></div></div></div><div class=\"sk-parallel\"><div class=\"sk-parallel-item\"><div class=\"sk-item\"><div class=\"sk-label-container\"><div class=\"sk-label sk-toggleable\"><input class=\"sk-toggleable__control sk-hidden--visually\" id=\"sk-estimator-id-2\" type=\"checkbox\" ><label for=\"sk-estimator-id-2\" class=\"sk-toggleable__label sk-toggleable__label-arrow\">onehotencoder</label><div class=\"sk-toggleable__content\"><pre>[&#x27;protocol_type&#x27;, &#x27;flag&#x27;]</pre></div></div></div><div class=\"sk-serial\"><div class=\"sk-item\"><div class=\"sk-estimator sk-toggleable\"><input class=\"sk-toggleable__control sk-hidden--visually\" id=\"sk-estimator-id-3\" type=\"checkbox\" ><label for=\"sk-estimator-id-3\" class=\"sk-toggleable__label sk-toggleable__label-arrow\">OneHotEncoder</label><div class=\"sk-toggleable__content\"><pre>OneHotEncoder(handle_unknown=&#x27;ignore&#x27;)</pre></div></div></div></div></div></div><div class=\"sk-parallel-item\"><div class=\"sk-item\"><div class=\"sk-label-container\"><div class=\"sk-label sk-toggleable\"><input class=\"sk-toggleable__control sk-hidden--visually\" id=\"sk-estimator-id-4\" type=\"checkbox\" ><label for=\"sk-estimator-id-4\" class=\"sk-toggleable__label sk-toggleable__label-arrow\">binaryencoder</label><div class=\"sk-toggleable__content\"><pre>[&#x27;service&#x27;]</pre></div></div></div><div class=\"sk-serial\"><div class=\"sk-item\"><div class=\"sk-estimator sk-toggleable\"><input class=\"sk-toggleable__control sk-hidden--visually\" id=\"sk-estimator-id-5\" type=\"checkbox\" ><label for=\"sk-estimator-id-5\" class=\"sk-toggleable__label sk-toggleable__label-arrow\">BinaryEncoder</label><div class=\"sk-toggleable__content\"><pre>BinaryEncoder()</pre></div></div></div></div></div></div><div class=\"sk-parallel-item\"><div class=\"sk-item\"><div class=\"sk-label-container\"><div class=\"sk-label sk-toggleable\"><input class=\"sk-toggleable__control sk-hidden--visually\" id=\"sk-estimator-id-6\" type=\"checkbox\" ><label for=\"sk-estimator-id-6\" class=\"sk-toggleable__label sk-toggleable__label-arrow\">remainder</label><div class=\"sk-toggleable__content\"><pre>[&#x27;duration&#x27;, &#x27;src_bytes&#x27;, &#x27;dst_bytes&#x27;, &#x27;land&#x27;, &#x27;wrong_fragment&#x27;, &#x27;urgent&#x27;, &#x27;hot&#x27;, &#x27;num_failed_logins&#x27;, &#x27;logged_in&#x27;, &#x27;num_compromised&#x27;, &#x27;root_shell&#x27;, &#x27;su_attempted&#x27;, &#x27;num_file_creations&#x27;, &#x27;num_shells&#x27;, &#x27;num_access_files&#x27;, &#x27;is_guest_login&#x27;, &#x27;count&#x27;, &#x27;srv_count&#x27;, &#x27;serror_rate&#x27;, &#x27;rerror_rate&#x27;, &#x27;same_srv_rate&#x27;, &#x27;diff_srv_rate&#x27;, &#x27;srv_diff_host_rate&#x27;, &#x27;dst_host_count&#x27;, &#x27;dst_host_srv_count&#x27;, &#x27;dst_host_diff_srv_rate&#x27;, &#x27;dst_host_same_src_port_rate&#x27;, &#x27;dst_host_srv_diff_host_rate&#x27;]</pre></div></div></div><div class=\"sk-serial\"><div class=\"sk-item\"><div class=\"sk-estimator sk-toggleable\"><input class=\"sk-toggleable__control sk-hidden--visually\" id=\"sk-estimator-id-7\" type=\"checkbox\" ><label for=\"sk-estimator-id-7\" class=\"sk-toggleable__label sk-toggleable__label-arrow\">passthrough</label><div class=\"sk-toggleable__content\"><pre>passthrough</pre></div></div></div></div></div></div></div></div></div></div>"
      ],
      "text/plain": [
       "ColumnTransformer(remainder='passthrough',\n",
       "                  transformers=[('onehotencoder',\n",
       "                                 OneHotEncoder(handle_unknown='ignore'),\n",
       "                                 ['protocol_type', 'flag']),\n",
       "                                ('binaryencoder', BinaryEncoder(),\n",
       "                                 ['service'])])"
      ]
     },
     "execution_count": 37,
     "metadata": {},
     "output_type": "execute_result"
    }
   ],
   "source": [
    "ct.fit(xtrain)"
   ]
  },
  {
   "cell_type": "code",
   "execution_count": 38,
   "id": "325f9337",
   "metadata": {
    "id": "J_MIj4QIn3ck"
   },
   "outputs": [],
   "source": [
    "xtrain=ct.transform(xtrain)\n",
    "xtest=ct.transform(xtest)"
   ]
  },
  {
   "cell_type": "markdown",
   "id": "e0ed304c",
   "metadata": {},
   "source": [
    "### Balancing training data"
   ]
  },
  {
   "cell_type": "code",
   "execution_count": 39,
   "id": "c0d35cf7",
   "metadata": {},
   "outputs": [
    {
     "data": {
      "text/plain": [
       "(array(['dos', 'normal', 'probe', 'r2l', 'u2r'], dtype=object),\n",
       " array([305305,  75950,   3176,    866,     39], dtype=int64))"
      ]
     },
     "execution_count": 39,
     "metadata": {},
     "output_type": "execute_result"
    }
   ],
   "source": [
    "np.unique(ytrain, return_counts=True)"
   ]
  },
  {
   "cell_type": "code",
   "execution_count": 40,
   "id": "856ea14a",
   "metadata": {},
   "outputs": [],
   "source": [
    "oss=OneSidedSelection(sampling_strategy=['dos','normal','probe'])\n",
    "xtrain,ytrain=oss.fit_resample(xtrain,ytrain)"
   ]
  },
  {
   "cell_type": "code",
   "execution_count": 41,
   "id": "f9db0a70",
   "metadata": {
    "scrolled": true
   },
   "outputs": [
    {
     "data": {
      "text/plain": [
       "(array(['dos', 'normal', 'probe', 'r2l', 'u2r'], dtype=object),\n",
       " array([86243, 59192,  2086,   866,    39], dtype=int64))"
      ]
     },
     "execution_count": 41,
     "metadata": {},
     "output_type": "execute_result"
    }
   ],
   "source": [
    "np.unique(ytrain, return_counts=True)"
   ]
  },
  {
   "cell_type": "markdown",
   "id": "fa05912c",
   "metadata": {
    "id": "gg259yxUhVO5"
   },
   "source": [
    "### Encoding Labels"
   ]
  },
  {
   "cell_type": "code",
   "execution_count": 42,
   "id": "39c9d013",
   "metadata": {
    "id": "N7u8B3QSczpv"
   },
   "outputs": [],
   "source": [
    "from sklearn.preprocessing import LabelEncoder"
   ]
  },
  {
   "cell_type": "code",
   "execution_count": 43,
   "id": "b061be4d",
   "metadata": {
    "id": "g8M8aFDSc2xY"
   },
   "outputs": [],
   "source": [
    "label_encoder=LabelEncoder()"
   ]
  },
  {
   "cell_type": "code",
   "execution_count": 44,
   "id": "27e85583",
   "metadata": {
    "id": "zioeCjjIc92r"
   },
   "outputs": [],
   "source": [
    "ytrain=label_encoder.fit_transform(ytrain)"
   ]
  },
  {
   "cell_type": "code",
   "execution_count": 45,
   "id": "510f54b4",
   "metadata": {
    "id": "QnVIvr4LIbTN"
   },
   "outputs": [],
   "source": [
    "ytest=label_encoder.transform(ytest)"
   ]
  },
  {
   "cell_type": "markdown",
   "id": "f84deab9",
   "metadata": {
    "id": "ABE9ezqrhcxs"
   },
   "source": [
    "**Comparing The shapes before and after encoding**"
   ]
  },
  {
   "cell_type": "code",
   "execution_count": 46,
   "id": "193c81b9",
   "metadata": {
    "colab": {
     "base_uri": "https://localhost:8080/"
    },
    "id": "dZl7HbIAKoMd",
    "outputId": "c720d278-42e4-4d4f-96ee-945b5ad2f913"
   },
   "outputs": [
    {
     "data": {
      "text/plain": [
       "((494021, 31), (148426, 49))"
      ]
     },
     "execution_count": 46,
     "metadata": {},
     "output_type": "execute_result"
    }
   ],
   "source": [
    "x.shape,xtrain.shape"
   ]
  },
  {
   "cell_type": "markdown",
   "id": "0142d334",
   "metadata": {
    "id": "5fNRY8vroJ91"
   },
   "source": [
    "## Modelling"
   ]
  },
  {
   "cell_type": "markdown",
   "id": "f9f70f7b",
   "metadata": {
    "id": "LLsSLIIloiiz"
   },
   "source": [
    "### Random Forest"
   ]
  },
  {
   "cell_type": "code",
   "execution_count": 47,
   "id": "6792f3a0",
   "metadata": {
    "id": "wXhZorBHoJeQ"
   },
   "outputs": [],
   "source": [
    "from sklearn.ensemble import RandomForestClassifier\n",
    "import timeit"
   ]
  },
  {
   "cell_type": "code",
   "execution_count": 48,
   "id": "cd7ab470",
   "metadata": {
    "id": "yRRaV76ToGqe"
   },
   "outputs": [],
   "source": [
    "rfc=RandomForestClassifier(n_estimators=10)"
   ]
  },
  {
   "cell_type": "code",
   "execution_count": 49,
   "id": "9d541680",
   "metadata": {
    "id": "-j3x0XFeo3k1"
   },
   "outputs": [],
   "source": [
    "start_time = timeit.default_timer()\n",
    "rfc.fit(xtrain,ytrain)\n",
    "end_time = timeit.default_timer()"
   ]
  },
  {
   "cell_type": "code",
   "execution_count": 50,
   "id": "776628f4",
   "metadata": {
    "id": "mmqlj9dwo6hQ"
   },
   "outputs": [],
   "source": [
    "training_accuracy=rfc.score(xtrain,ytrain)\n",
    "testing_accuracy=rfc.score(xtest,ytest)"
   ]
  },
  {
   "cell_type": "code",
   "execution_count": 51,
   "id": "8f5286a6",
   "metadata": {},
   "outputs": [
    {
     "name": "stdout",
     "output_type": "stream",
     "text": [
      "              precision    recall  f1-score   support\n",
      "\n",
      "           0       1.00      1.00      1.00     86153\n",
      "           1       1.00      1.00      1.00     21328\n",
      "           2       0.99      0.99      0.99       931\n",
      "           3       0.98      0.96      0.97       260\n",
      "           4       0.91      0.77      0.83        13\n",
      "\n",
      "    accuracy                           1.00    108685\n",
      "   macro avg       0.98      0.94      0.96    108685\n",
      "weighted avg       1.00      1.00      1.00    108685\n",
      "\n"
     ]
    }
   ],
   "source": [
    "pred=rfc.predict(xtest)\n",
    "print(classification_report(ytest,pred))"
   ]
  },
  {
   "cell_type": "code",
   "execution_count": 52,
   "id": "615a1bf9",
   "metadata": {
    "id": "cmn-7lvkpgUy"
   },
   "outputs": [],
   "source": [
    "total_time=end_time-start_time"
   ]
  },
  {
   "cell_type": "code",
   "execution_count": 53,
   "id": "bd88334c",
   "metadata": {
    "id": "QisFBvnxqvWS"
   },
   "outputs": [],
   "source": [
    "metrics=[['Random Forest Classifier',total_time,training_accuracy,testing_accuracy]]"
   ]
  },
  {
   "cell_type": "code",
   "execution_count": 54,
   "id": "eb1160cd",
   "metadata": {
    "id": "XV8uabvprAZK"
   },
   "outputs": [],
   "source": [
    "model_results=pd.DataFrame(metrics,columns=['Model Name','Execution time','Training Accuracy','Testing Accuracy'])"
   ]
  },
  {
   "cell_type": "code",
   "execution_count": 55,
   "id": "bd0edc11",
   "metadata": {
    "colab": {
     "base_uri": "https://localhost:8080/",
     "height": 81
    },
    "id": "1F_J6hKR3fme",
    "outputId": "1629590d-2562-4cf7-90cf-bffa0495a8f8"
   },
   "outputs": [
    {
     "data": {
      "text/html": [
       "<div>\n",
       "<style scoped>\n",
       "    .dataframe tbody tr th:only-of-type {\n",
       "        vertical-align: middle;\n",
       "    }\n",
       "\n",
       "    .dataframe tbody tr th {\n",
       "        vertical-align: top;\n",
       "    }\n",
       "\n",
       "    .dataframe thead th {\n",
       "        text-align: right;\n",
       "    }\n",
       "</style>\n",
       "<table border=\"1\" class=\"dataframe\">\n",
       "  <thead>\n",
       "    <tr style=\"text-align: right;\">\n",
       "      <th></th>\n",
       "      <th>Model Name</th>\n",
       "      <th>Execution time</th>\n",
       "      <th>Training Accuracy</th>\n",
       "      <th>Testing Accuracy</th>\n",
       "    </tr>\n",
       "  </thead>\n",
       "  <tbody>\n",
       "    <tr>\n",
       "      <th>0</th>\n",
       "      <td>Random Forest Classifier</td>\n",
       "      <td>1.302286</td>\n",
       "      <td>0.999933</td>\n",
       "      <td>0.999347</td>\n",
       "    </tr>\n",
       "  </tbody>\n",
       "</table>\n",
       "</div>"
      ],
      "text/plain": [
       "                 Model Name  Execution time  Training Accuracy  \\\n",
       "0  Random Forest Classifier        1.302286           0.999933   \n",
       "\n",
       "   Testing Accuracy  \n",
       "0          0.999347  "
      ]
     },
     "execution_count": 55,
     "metadata": {},
     "output_type": "execute_result"
    }
   ],
   "source": [
    "model_results"
   ]
  },
  {
   "cell_type": "markdown",
   "id": "7eb23dab",
   "metadata": {
    "id": "HWQrzmsJzJPS"
   },
   "source": [
    "### Decision Tree Classifier"
   ]
  },
  {
   "cell_type": "code",
   "execution_count": 56,
   "id": "ab1cc992",
   "metadata": {
    "id": "mDh2JTSuzMuy"
   },
   "outputs": [],
   "source": [
    "from sklearn.tree import DecisionTreeClassifier"
   ]
  },
  {
   "cell_type": "code",
   "execution_count": 57,
   "id": "2abc981b",
   "metadata": {
    "id": "gobPB4VuzO-G"
   },
   "outputs": [],
   "source": [
    "dtc=DecisionTreeClassifier()"
   ]
  },
  {
   "cell_type": "code",
   "execution_count": 58,
   "id": "d06b51c1",
   "metadata": {
    "id": "OtLPBQc-zRVy"
   },
   "outputs": [],
   "source": [
    "start_time = timeit.default_timer()\n",
    "dtc.fit(xtrain,ytrain)\n",
    "end_time = timeit.default_timer()"
   ]
  },
  {
   "cell_type": "code",
   "execution_count": 59,
   "id": "0d53fd27",
   "metadata": {
    "id": "57e6oOAzzfUM"
   },
   "outputs": [],
   "source": [
    "training_accuracy=dtc.score(xtrain,ytrain)\n",
    "testing_accuracy=dtc.score(xtest,ytest)\n",
    "total_time=end_time-start_time"
   ]
  },
  {
   "cell_type": "code",
   "execution_count": 60,
   "id": "f63d771b",
   "metadata": {},
   "outputs": [
    {
     "name": "stdout",
     "output_type": "stream",
     "text": [
      "              precision    recall  f1-score   support\n",
      "\n",
      "           0       1.00      1.00      1.00     86153\n",
      "           1       1.00      1.00      1.00     21328\n",
      "           2       0.99      0.99      0.99       931\n",
      "           3       0.98      0.96      0.97       260\n",
      "           4       0.83      0.77      0.80        13\n",
      "\n",
      "    accuracy                           1.00    108685\n",
      "   macro avg       0.96      0.94      0.95    108685\n",
      "weighted avg       1.00      1.00      1.00    108685\n",
      "\n"
     ]
    }
   ],
   "source": [
    "pred=dtc.predict(xtest)\n",
    "print(classification_report(ytest,pred))"
   ]
  },
  {
   "cell_type": "code",
   "execution_count": 61,
   "id": "c23a084f",
   "metadata": {
    "id": "ac_fXxrFzk5C"
   },
   "outputs": [],
   "source": [
    "metrics=['Decision Tree Classifier',total_time,training_accuracy,testing_accuracy]"
   ]
  },
  {
   "cell_type": "code",
   "execution_count": 62,
   "id": "eb3e8c90",
   "metadata": {
    "id": "4uLOmMCWzl15"
   },
   "outputs": [],
   "source": [
    "model_results.loc[len(model_results.index)]=metrics"
   ]
  },
  {
   "cell_type": "markdown",
   "id": "4d936a89",
   "metadata": {
    "id": "gSDABIVm88mp"
   },
   "source": [
    "### Multinomial Naive bayes"
   ]
  },
  {
   "cell_type": "code",
   "execution_count": 63,
   "id": "49482f3e",
   "metadata": {
    "id": "Zg5js_aL9SOt"
   },
   "outputs": [],
   "source": [
    "from sklearn.naive_bayes import MultinomialNB"
   ]
  },
  {
   "cell_type": "code",
   "execution_count": 64,
   "id": "3c9cde36",
   "metadata": {
    "id": "gi9Cdqam9Zgk"
   },
   "outputs": [],
   "source": [
    "mnb=MultinomialNB()"
   ]
  },
  {
   "cell_type": "code",
   "execution_count": 65,
   "id": "0a614fc4",
   "metadata": {
    "id": "Mv5zjrqO9bRS"
   },
   "outputs": [],
   "source": [
    "start_time = timeit.default_timer()\n",
    "mnb.fit(xtrain,ytrain)\n",
    "end_time = timeit.default_timer()"
   ]
  },
  {
   "cell_type": "code",
   "execution_count": 66,
   "id": "2273f671",
   "metadata": {
    "id": "RMQl_OyQ9eR2"
   },
   "outputs": [],
   "source": [
    "training_accuracy=mnb.score(xtrain,ytrain)\n",
    "testing_accuracy=mnb.score(xtest,ytest)\n",
    "total_time=end_time-start_time"
   ]
  },
  {
   "cell_type": "code",
   "execution_count": 67,
   "id": "d13262df",
   "metadata": {},
   "outputs": [
    {
     "name": "stdout",
     "output_type": "stream",
     "text": [
      "              precision    recall  f1-score   support\n",
      "\n",
      "           0       0.93      0.99      0.96     86153\n",
      "           1       0.97      0.55      0.70     21328\n",
      "           2       0.00      0.00      0.00       931\n",
      "           3       0.00      0.00      0.00       260\n",
      "           4       0.00      0.54      0.00        13\n",
      "\n",
      "    accuracy                           0.90    108685\n",
      "   macro avg       0.38      0.42      0.33    108685\n",
      "weighted avg       0.93      0.90      0.90    108685\n",
      "\n"
     ]
    }
   ],
   "source": [
    "pred=mnb.predict(xtest)\n",
    "print(classification_report(ytest,pred))"
   ]
  },
  {
   "cell_type": "code",
   "execution_count": 68,
   "id": "b01ee6a0",
   "metadata": {
    "id": "e4bOeE8o9hhn"
   },
   "outputs": [],
   "source": [
    "metrics=['Multinomial Naive bayes',total_time,training_accuracy,testing_accuracy]"
   ]
  },
  {
   "cell_type": "code",
   "execution_count": 69,
   "id": "9f980a21",
   "metadata": {
    "id": "MOP28fNz9oKn"
   },
   "outputs": [],
   "source": [
    "model_results.loc[len(model_results.index)]=metrics"
   ]
  },
  {
   "cell_type": "markdown",
   "id": "79cad23b",
   "metadata": {
    "id": "awt-y_Te978t"
   },
   "source": [
    "### Neural Networks"
   ]
  },
  {
   "cell_type": "code",
   "execution_count": 90,
   "id": "a2ae66b9",
   "metadata": {
    "id": "4hkHPDIci1JX"
   },
   "outputs": [],
   "source": [
    "import tensorflow as tf"
   ]
  },
  {
   "cell_type": "code",
   "execution_count": 91,
   "id": "57f853c6",
   "metadata": {
    "id": "BIcONYUs-A8h"
   },
   "outputs": [],
   "source": [
    "neural_network=tf.keras.Sequential([\n",
    "                tf.keras.layers.Dense(10,activation='relu'),\n",
    "                tf.keras.layers.Dense(10,activation='relu'),\n",
    "                tf.keras.layers.Dense(5,activation='softmax')\n",
    "])\n",
    "\n",
    "neural_network.compile(loss=tf.keras.losses.sparse_categorical_crossentropy,\n",
    "                       optimizer=tf.keras.optimizers.Adam(),\n",
    "                       metrics=['Accuracy'])"
   ]
  },
  {
   "cell_type": "code",
   "execution_count": 92,
   "id": "feb7464a",
   "metadata": {
    "id": "zib3xX3Z-86K"
   },
   "outputs": [],
   "source": [
    "start_time = timeit.default_timer()\n",
    "neural_network.fit(xtrain,ytrain,epochs=5,batch_size=128,verbose=0)\n",
    "end_time = timeit.default_timer()"
   ]
  },
  {
   "cell_type": "code",
   "execution_count": 93,
   "id": "e7ff5eb5",
   "metadata": {
    "id": "sWyLXgg7_MVX"
   },
   "outputs": [
    {
     "name": "stdout",
     "output_type": "stream",
     "text": [
      "4639/4639 [==============================] - 24s 5ms/step - loss: 122.7423 - Accuracy: 0.9695\n",
      "3397/3397 [==============================] - 17s 5ms/step - loss: 44.7721 - Accuracy: 0.9840\n"
     ]
    }
   ],
   "source": [
    "training_accuracy=round(neural_network.evaluate(xtrain,ytrain)[1],5)\n",
    "testing_accuracy=round(neural_network.evaluate(xtest,ytest)[1],5)\n",
    "total_time=end_time-start_time"
   ]
  },
  {
   "cell_type": "code",
   "execution_count": 94,
   "id": "0bc4bc8d",
   "metadata": {},
   "outputs": [
    {
     "name": "stdout",
     "output_type": "stream",
     "text": [
      "3397/3397 [==============================] - 8s 2ms/step\n",
      "              precision    recall  f1-score   support\n",
      "\n",
      "           0       0.99      1.00      1.00     86153\n",
      "           1       0.97      0.97      0.97     21328\n",
      "           2       0.37      0.39      0.38       931\n",
      "           3       0.08      0.01      0.01       260\n",
      "           4       0.00      0.00      0.00        13\n",
      "\n",
      "    accuracy                           0.98    108685\n",
      "   macro avg       0.48      0.47      0.47    108685\n",
      "weighted avg       0.98      0.98      0.98    108685\n",
      "\n"
     ]
    }
   ],
   "source": [
    "pred=neural_network.predict(xtest)\n",
    "pred=np.argmax(pred,axis=1)\n",
    "print(classification_report(ytest,pred))"
   ]
  },
  {
   "cell_type": "code",
   "execution_count": 95,
   "id": "fd355bca",
   "metadata": {
    "id": "cKix7-gT_XAg"
   },
   "outputs": [],
   "source": [
    "metrics=['Neural network',total_time,training_accuracy,testing_accuracy]"
   ]
  },
  {
   "cell_type": "code",
   "execution_count": 96,
   "id": "232c471b",
   "metadata": {
    "id": "jcPDw0s9_agf"
   },
   "outputs": [],
   "source": [
    "model_results.loc[len(model_results.index)]=metrics"
   ]
  },
  {
   "cell_type": "markdown",
   "id": "5c17d514",
   "metadata": {},
   "source": [
    "### XGBoost Classifier"
   ]
  },
  {
   "cell_type": "code",
   "execution_count": 97,
   "id": "3bb7b8b7",
   "metadata": {},
   "outputs": [],
   "source": [
    "from xgboost import XGBClassifier"
   ]
  },
  {
   "cell_type": "code",
   "execution_count": 98,
   "id": "b65930e4",
   "metadata": {},
   "outputs": [],
   "source": [
    "xgb=XGBClassifier()"
   ]
  },
  {
   "cell_type": "code",
   "execution_count": 99,
   "id": "b59bf09e",
   "metadata": {},
   "outputs": [],
   "source": [
    "start_time = timeit.default_timer()\n",
    "xgb.fit(xtrain,ytrain)\n",
    "end_time = timeit.default_timer()"
   ]
  },
  {
   "cell_type": "code",
   "execution_count": 100,
   "id": "e467129b",
   "metadata": {},
   "outputs": [],
   "source": [
    "training_accuracy=xgb.score(xtrain,ytrain)\n",
    "testing_accuracy=xgb.score(xtest,ytest)\n",
    "total_time=end_time-start_time"
   ]
  },
  {
   "cell_type": "code",
   "execution_count": 111,
   "id": "073271e1",
   "metadata": {},
   "outputs": [
    {
     "name": "stdout",
     "output_type": "stream",
     "text": [
      "              precision    recall  f1-score   support\n",
      "\n",
      "           0       1.00      1.00      1.00     86153\n",
      "           1       1.00      1.00      1.00     21328\n",
      "           2       1.00      1.00      1.00       931\n",
      "           3       1.00      0.98      0.99       260\n",
      "           4       0.93      1.00      0.96        13\n",
      "\n",
      "    accuracy                           1.00    108685\n",
      "   macro avg       0.98      0.99      0.99    108685\n",
      "weighted avg       1.00      1.00      1.00    108685\n",
      "\n",
      "[[86148     5     0     0     0]\n",
      " [    0 21324     3     1     0]\n",
      " [    0     2   929     0     0]\n",
      " [    0     5     0   254     1]\n",
      " [    0     0     0     0    13]]\n"
     ]
    }
   ],
   "source": [
    "pred=xgb.predict(xtest)\n",
    "print(classification_report(ytest,pred))\n",
    "print(confusion_matrix(ytest,pred))"
   ]
  },
  {
   "cell_type": "code",
   "execution_count": 102,
   "id": "92be6336",
   "metadata": {},
   "outputs": [],
   "source": [
    "metrics=['XGBoost Classifer',total_time,training_accuracy,testing_accuracy]"
   ]
  },
  {
   "cell_type": "code",
   "execution_count": 103,
   "id": "14a74c83",
   "metadata": {},
   "outputs": [],
   "source": [
    "model_results.loc[len(model_results.index)]=metrics"
   ]
  },
  {
   "cell_type": "code",
   "execution_count": 104,
   "id": "57a97c43",
   "metadata": {},
   "outputs": [
    {
     "data": {
      "text/html": [
       "<div>\n",
       "<style scoped>\n",
       "    .dataframe tbody tr th:only-of-type {\n",
       "        vertical-align: middle;\n",
       "    }\n",
       "\n",
       "    .dataframe tbody tr th {\n",
       "        vertical-align: top;\n",
       "    }\n",
       "\n",
       "    .dataframe thead th {\n",
       "        text-align: right;\n",
       "    }\n",
       "</style>\n",
       "<table border=\"1\" class=\"dataframe\">\n",
       "  <thead>\n",
       "    <tr style=\"text-align: right;\">\n",
       "      <th></th>\n",
       "      <th>Model Name</th>\n",
       "      <th>Execution time</th>\n",
       "      <th>Training Accuracy</th>\n",
       "      <th>Testing Accuracy</th>\n",
       "    </tr>\n",
       "  </thead>\n",
       "  <tbody>\n",
       "    <tr>\n",
       "      <th>0</th>\n",
       "      <td>Random Forest Classifier</td>\n",
       "      <td>1.302286</td>\n",
       "      <td>0.999933</td>\n",
       "      <td>0.999347</td>\n",
       "    </tr>\n",
       "    <tr>\n",
       "      <th>1</th>\n",
       "      <td>Decision Tree Classifier</td>\n",
       "      <td>1.073844</td>\n",
       "      <td>0.999993</td>\n",
       "      <td>0.999310</td>\n",
       "    </tr>\n",
       "    <tr>\n",
       "      <th>2</th>\n",
       "      <td>Multinomial Naive bayes</td>\n",
       "      <td>0.040590</td>\n",
       "      <td>0.802487</td>\n",
       "      <td>0.895128</td>\n",
       "    </tr>\n",
       "    <tr>\n",
       "      <th>3</th>\n",
       "      <td>Neural network</td>\n",
       "      <td>28.569603</td>\n",
       "      <td>0.969480</td>\n",
       "      <td>0.984000</td>\n",
       "    </tr>\n",
       "    <tr>\n",
       "      <th>4</th>\n",
       "      <td>XGBoost Classifer</td>\n",
       "      <td>26.347768</td>\n",
       "      <td>0.999993</td>\n",
       "      <td>0.999844</td>\n",
       "    </tr>\n",
       "  </tbody>\n",
       "</table>\n",
       "</div>"
      ],
      "text/plain": [
       "                 Model Name  Execution time  Training Accuracy  \\\n",
       "0  Random Forest Classifier        1.302286           0.999933   \n",
       "1  Decision Tree Classifier        1.073844           0.999993   \n",
       "2   Multinomial Naive bayes        0.040590           0.802487   \n",
       "3            Neural network       28.569603           0.969480   \n",
       "4         XGBoost Classifer       26.347768           0.999993   \n",
       "\n",
       "   Testing Accuracy  \n",
       "0          0.999347  \n",
       "1          0.999310  \n",
       "2          0.895128  \n",
       "3          0.984000  \n",
       "4          0.999844  "
      ]
     },
     "execution_count": 104,
     "metadata": {},
     "output_type": "execute_result"
    }
   ],
   "source": [
    "model_results"
   ]
  },
  {
   "cell_type": "markdown",
   "id": "1e9169b4",
   "metadata": {},
   "source": [
    "**By looking at individial accuracies XGBoost performs the best however it's training time is far greater than of Random forest classifier which can be improved by using gpu. Random forest is also performing well but it is ignoring the small class**"
   ]
  },
  {
   "cell_type": "markdown",
   "id": "10ee11fa",
   "metadata": {},
   "source": [
    "## Using all of the dataset on best model"
   ]
  },
  {
   "cell_type": "markdown",
   "id": "f691935c",
   "metadata": {},
   "source": [
    "### Imports"
   ]
  },
  {
   "cell_type": "code",
   "execution_count": 1,
   "id": "eb7e871b",
   "metadata": {},
   "outputs": [],
   "source": [
    "from sklearn.preprocessing import OneHotEncoder,LabelEncoder\n",
    "from category_encoders import BinaryEncoder\n",
    "from xgboost import XGBClassifier\n",
    "from sklearn.compose import make_column_transformer\n",
    "from sklearn.model_selection import train_test_split\n",
    "import numpy as np\n",
    "import pandas as pd\n",
    "from sklearn.metrics import classification_report,confusion_matrix\n",
    "import itertools\n",
    "import matplotlib.pyplot as plt"
   ]
  },
  {
   "cell_type": "markdown",
   "id": "fad50de7",
   "metadata": {},
   "source": [
    "### Reading Dataset and Declaring already processed columns"
   ]
  },
  {
   "cell_type": "code",
   "execution_count": 2,
   "id": "4b4e9f7e",
   "metadata": {},
   "outputs": [],
   "source": [
    "columns=['duration',\n",
    " 'protocol_type',\n",
    " 'service',\n",
    " 'flag',\n",
    " 'src_bytes',\n",
    " 'dst_bytes',\n",
    " 'land',\n",
    " 'wrong_fragment',\n",
    " 'urgent',\n",
    " 'hot',\n",
    " 'num_failed_logins',\n",
    " 'logged_in',\n",
    " 'num_compromised',\n",
    " 'root_shell',\n",
    " 'su_attempted',\n",
    " 'num_root',\n",
    " 'num_file_creations',\n",
    " 'num_shells',\n",
    " 'num_access_files',\n",
    " 'num_outbound_cmds',\n",
    " 'is_host_login',\n",
    " 'is_guest_login',\n",
    " 'count',\n",
    " 'srv_count',\n",
    " 'serror_rate',\n",
    " 'srv_serror_rate',\n",
    " 'rerror_rate',\n",
    " 'srv_rerror_rate',\n",
    " 'same_srv_rate',\n",
    " 'diff_srv_rate',\n",
    " 'srv_diff_host_rate',\n",
    " 'dst_host_count',\n",
    " 'dst_host_srv_count',\n",
    " 'dst_host_same_srv_rate',\n",
    " 'dst_host_diff_srv_rate',\n",
    " 'dst_host_same_src_port_rate',\n",
    " 'dst_host_srv_diff_host_rate',\n",
    " 'dst_host_serror_rate',\n",
    " 'dst_host_srv_serror_rate',\n",
    " 'dst_host_rerror_rate',\n",
    " 'dst_host_srv_rerror_rate',\n",
    " 'target']\n",
    "to_drop=['num_root',\n",
    " 'srv_serror_rate',\n",
    " 'srv_rerror_rate',\n",
    " 'dst_host_same_srv_rate',\n",
    " 'dst_host_serror_rate',\n",
    " 'dst_host_srv_serror_rate',\n",
    " 'dst_host_rerror_rate',\n",
    " 'dst_host_srv_rerror_rate',\n",
    " 'is_host_login',\n",
    " 'num_outbound_cmds']\n",
    "attacks={'back': 'dos',\n",
    " 'buffer_overflow': 'u2r',\n",
    " 'ftp_write': 'r2l',\n",
    " 'guess_passwd': 'r2l',\n",
    " 'imap': 'r2l',\n",
    " 'ipsweep': 'probe',\n",
    " 'land': 'dos',\n",
    " 'loadmodule': 'u2r',\n",
    " 'multihop': 'r2l',\n",
    " 'neptune': 'dos',\n",
    " 'nmap': 'probe',\n",
    " 'perl': 'u2r',\n",
    " 'phf': 'r2l',\n",
    " 'pod': 'dos',\n",
    " 'portsweep': 'probe',\n",
    " 'rootkit': 'u2r',\n",
    " 'satan': 'probe',\n",
    " 'smurf': 'dos',\n",
    " 'spy': 'r2l',\n",
    " 'teardrop': 'dos',\n",
    " 'warezclient': 'r2l',\n",
    " 'warezmaster': 'r2l',\n",
    " 'normal': 'normal'}"
   ]
  },
  {
   "cell_type": "code",
   "execution_count": 3,
   "id": "d7f763d6",
   "metadata": {},
   "outputs": [],
   "source": [
    "df=pd.read_csv('kddcup.data.gz',names=columns)\n",
    "df['target']=df['target'].apply(lambda x:attacks[x[:-1]])"
   ]
  },
  {
   "cell_type": "markdown",
   "id": "b540c03f",
   "metadata": {},
   "source": [
    "### Preprocessing dataset"
   ]
  },
  {
   "cell_type": "markdown",
   "id": "4b8243d7",
   "metadata": {},
   "source": [
    "**Removing highly correlated columns**"
   ]
  },
  {
   "cell_type": "code",
   "execution_count": 4,
   "id": "2ee66ce3",
   "metadata": {},
   "outputs": [],
   "source": [
    "df.dropna(inplace=True)\n",
    "df.drop(to_drop,axis=1,inplace=True)"
   ]
  },
  {
   "cell_type": "markdown",
   "id": "bb68471c",
   "metadata": {},
   "source": [
    "**Finding categorical columns**"
   ]
  },
  {
   "cell_type": "code",
   "execution_count": 5,
   "id": "223f9fff",
   "metadata": {},
   "outputs": [],
   "source": [
    "cat_columns=df.select_dtypes(include=['object']).columns.tolist()\n",
    "cat_columns=cat_columns[:-1]\n",
    "cat_columns.remove('service')\n",
    "ordinal=['service']"
   ]
  },
  {
   "cell_type": "markdown",
   "id": "490055e3",
   "metadata": {},
   "source": [
    "**Creating x,y and performing train test split**"
   ]
  },
  {
   "cell_type": "code",
   "execution_count": 6,
   "id": "b7723285",
   "metadata": {},
   "outputs": [],
   "source": [
    "x=df.drop('target',axis=1)\n",
    "y=df['target']\n",
    "xtrain, xtest, ytrain, ytest = train_test_split(x, y, test_size=0.20, random_state=42,stratify=df['target'])"
   ]
  },
  {
   "cell_type": "code",
   "execution_count": 7,
   "id": "d9439dbf",
   "metadata": {},
   "outputs": [
    {
     "data": {
      "text/plain": [
       "(array(['dos', 'normal', 'probe', 'r2l', 'u2r'], dtype=object),\n",
       " array([3106695,  778225,   32881,     901,      42], dtype=int64))"
      ]
     },
     "execution_count": 7,
     "metadata": {},
     "output_type": "execute_result"
    }
   ],
   "source": [
    "np.unique(ytrain, return_counts=True)"
   ]
  },
  {
   "cell_type": "markdown",
   "id": "f660bb68",
   "metadata": {},
   "source": [
    "**Encoding columns**"
   ]
  },
  {
   "cell_type": "code",
   "execution_count": 8,
   "id": "544fb723",
   "metadata": {},
   "outputs": [],
   "source": [
    "ct=make_column_transformer((OneHotEncoder(handle_unknown = 'ignore'),cat_columns),\n",
    "                           ( BinaryEncoder(),ordinal),\n",
    "                           remainder='passthrough')\n",
    "ct.fit(xtrain)\n",
    "xtrain=ct.transform(xtrain)\n",
    "xtest=ct.transform(xtest)"
   ]
  },
  {
   "cell_type": "code",
   "execution_count": 9,
   "id": "a0bf8bdb",
   "metadata": {},
   "outputs": [],
   "source": [
    "le=LabelEncoder()\n",
    "ytrain=le.fit_transform(ytrain)\n",
    "ytest=le.transform(ytest)"
   ]
  },
  {
   "cell_type": "markdown",
   "id": "b417ccc6",
   "metadata": {},
   "source": [
    "## Modelling"
   ]
  },
  {
   "cell_type": "code",
   "execution_count": 12,
   "id": "8119314b",
   "metadata": {},
   "outputs": [],
   "source": [
    "xgb=XGBClassifier(tree_method='gpu_hist')"
   ]
  },
  {
   "cell_type": "code",
   "execution_count": 13,
   "id": "bf685da1",
   "metadata": {},
   "outputs": [
    {
     "data": {
      "text/html": [
       "<style>#sk-container-id-1 {color: black;background-color: white;}#sk-container-id-1 pre{padding: 0;}#sk-container-id-1 div.sk-toggleable {background-color: white;}#sk-container-id-1 label.sk-toggleable__label {cursor: pointer;display: block;width: 100%;margin-bottom: 0;padding: 0.3em;box-sizing: border-box;text-align: center;}#sk-container-id-1 label.sk-toggleable__label-arrow:before {content: \"▸\";float: left;margin-right: 0.25em;color: #696969;}#sk-container-id-1 label.sk-toggleable__label-arrow:hover:before {color: black;}#sk-container-id-1 div.sk-estimator:hover label.sk-toggleable__label-arrow:before {color: black;}#sk-container-id-1 div.sk-toggleable__content {max-height: 0;max-width: 0;overflow: hidden;text-align: left;background-color: #f0f8ff;}#sk-container-id-1 div.sk-toggleable__content pre {margin: 0.2em;color: black;border-radius: 0.25em;background-color: #f0f8ff;}#sk-container-id-1 input.sk-toggleable__control:checked~div.sk-toggleable__content {max-height: 200px;max-width: 100%;overflow: auto;}#sk-container-id-1 input.sk-toggleable__control:checked~label.sk-toggleable__label-arrow:before {content: \"▾\";}#sk-container-id-1 div.sk-estimator input.sk-toggleable__control:checked~label.sk-toggleable__label {background-color: #d4ebff;}#sk-container-id-1 div.sk-label input.sk-toggleable__control:checked~label.sk-toggleable__label {background-color: #d4ebff;}#sk-container-id-1 input.sk-hidden--visually {border: 0;clip: rect(1px 1px 1px 1px);clip: rect(1px, 1px, 1px, 1px);height: 1px;margin: -1px;overflow: hidden;padding: 0;position: absolute;width: 1px;}#sk-container-id-1 div.sk-estimator {font-family: monospace;background-color: #f0f8ff;border: 1px dotted black;border-radius: 0.25em;box-sizing: border-box;margin-bottom: 0.5em;}#sk-container-id-1 div.sk-estimator:hover {background-color: #d4ebff;}#sk-container-id-1 div.sk-parallel-item::after {content: \"\";width: 100%;border-bottom: 1px solid gray;flex-grow: 1;}#sk-container-id-1 div.sk-label:hover label.sk-toggleable__label {background-color: #d4ebff;}#sk-container-id-1 div.sk-serial::before {content: \"\";position: absolute;border-left: 1px solid gray;box-sizing: border-box;top: 0;bottom: 0;left: 50%;z-index: 0;}#sk-container-id-1 div.sk-serial {display: flex;flex-direction: column;align-items: center;background-color: white;padding-right: 0.2em;padding-left: 0.2em;position: relative;}#sk-container-id-1 div.sk-item {position: relative;z-index: 1;}#sk-container-id-1 div.sk-parallel {display: flex;align-items: stretch;justify-content: center;background-color: white;position: relative;}#sk-container-id-1 div.sk-item::before, #sk-container-id-1 div.sk-parallel-item::before {content: \"\";position: absolute;border-left: 1px solid gray;box-sizing: border-box;top: 0;bottom: 0;left: 50%;z-index: -1;}#sk-container-id-1 div.sk-parallel-item {display: flex;flex-direction: column;z-index: 1;position: relative;background-color: white;}#sk-container-id-1 div.sk-parallel-item:first-child::after {align-self: flex-end;width: 50%;}#sk-container-id-1 div.sk-parallel-item:last-child::after {align-self: flex-start;width: 50%;}#sk-container-id-1 div.sk-parallel-item:only-child::after {width: 0;}#sk-container-id-1 div.sk-dashed-wrapped {border: 1px dashed gray;margin: 0 0.4em 0.5em 0.4em;box-sizing: border-box;padding-bottom: 0.4em;background-color: white;}#sk-container-id-1 div.sk-label label {font-family: monospace;font-weight: bold;display: inline-block;line-height: 1.2em;}#sk-container-id-1 div.sk-label-container {text-align: center;}#sk-container-id-1 div.sk-container {/* jupyter's `normalize.less` sets `[hidden] { display: none; }` but bootstrap.min.css set `[hidden] { display: none !important; }` so we also need the `!important` here to be able to override the default hidden behavior on the sphinx rendered scikit-learn.org. See: https://github.com/scikit-learn/scikit-learn/issues/21755 */display: inline-block !important;position: relative;}#sk-container-id-1 div.sk-text-repr-fallback {display: none;}</style><div id=\"sk-container-id-1\" class=\"sk-top-container\"><div class=\"sk-text-repr-fallback\"><pre>XGBClassifier(base_score=0.5, booster=&#x27;gbtree&#x27;, callbacks=None,\n",
       "              colsample_bylevel=1, colsample_bynode=1, colsample_bytree=1,\n",
       "              early_stopping_rounds=None, enable_categorical=False,\n",
       "              eval_metric=None, gamma=0, gpu_id=0, grow_policy=&#x27;depthwise&#x27;,\n",
       "              importance_type=None, interaction_constraints=&#x27;&#x27;,\n",
       "              learning_rate=0.300000012, max_bin=256, max_cat_to_onehot=4,\n",
       "              max_delta_step=0, max_depth=6, max_leaves=0, min_child_weight=1,\n",
       "              missing=nan, monotone_constraints=&#x27;()&#x27;, n_estimators=100,\n",
       "              n_jobs=0, num_parallel_tree=1, objective=&#x27;multi:softprob&#x27;,\n",
       "              predictor=&#x27;auto&#x27;, random_state=0, reg_alpha=0, ...)</pre><b>In a Jupyter environment, please rerun this cell to show the HTML representation or trust the notebook. <br />On GitHub, the HTML representation is unable to render, please try loading this page with nbviewer.org.</b></div><div class=\"sk-container\" hidden><div class=\"sk-item\"><div class=\"sk-estimator sk-toggleable\"><input class=\"sk-toggleable__control sk-hidden--visually\" id=\"sk-estimator-id-1\" type=\"checkbox\" checked><label for=\"sk-estimator-id-1\" class=\"sk-toggleable__label sk-toggleable__label-arrow\">XGBClassifier</label><div class=\"sk-toggleable__content\"><pre>XGBClassifier(base_score=0.5, booster=&#x27;gbtree&#x27;, callbacks=None,\n",
       "              colsample_bylevel=1, colsample_bynode=1, colsample_bytree=1,\n",
       "              early_stopping_rounds=None, enable_categorical=False,\n",
       "              eval_metric=None, gamma=0, gpu_id=0, grow_policy=&#x27;depthwise&#x27;,\n",
       "              importance_type=None, interaction_constraints=&#x27;&#x27;,\n",
       "              learning_rate=0.300000012, max_bin=256, max_cat_to_onehot=4,\n",
       "              max_delta_step=0, max_depth=6, max_leaves=0, min_child_weight=1,\n",
       "              missing=nan, monotone_constraints=&#x27;()&#x27;, n_estimators=100,\n",
       "              n_jobs=0, num_parallel_tree=1, objective=&#x27;multi:softprob&#x27;,\n",
       "              predictor=&#x27;auto&#x27;, random_state=0, reg_alpha=0, ...)</pre></div></div></div></div></div>"
      ],
      "text/plain": [
       "XGBClassifier(base_score=0.5, booster='gbtree', callbacks=None,\n",
       "              colsample_bylevel=1, colsample_bynode=1, colsample_bytree=1,\n",
       "              early_stopping_rounds=None, enable_categorical=False,\n",
       "              eval_metric=None, gamma=0, gpu_id=0, grow_policy='depthwise',\n",
       "              importance_type=None, interaction_constraints='',\n",
       "              learning_rate=0.300000012, max_bin=256, max_cat_to_onehot=4,\n",
       "              max_delta_step=0, max_depth=6, max_leaves=0, min_child_weight=1,\n",
       "              missing=nan, monotone_constraints='()', n_estimators=100,\n",
       "              n_jobs=0, num_parallel_tree=1, objective='multi:softprob',\n",
       "              predictor='auto', random_state=0, reg_alpha=0, ...)"
      ]
     },
     "execution_count": 13,
     "metadata": {},
     "output_type": "execute_result"
    }
   ],
   "source": [
    "xgb.fit(xtrain,ytrain)"
   ]
  },
  {
   "cell_type": "markdown",
   "id": "64a016e6",
   "metadata": {},
   "source": [
    "## Evaluate the best model"
   ]
  },
  {
   "cell_type": "code",
   "execution_count": 14,
   "id": "4a600bc9",
   "metadata": {},
   "outputs": [
    {
     "data": {
      "text/plain": [
       "0.9999591706330695"
      ]
     },
     "execution_count": 14,
     "metadata": {},
     "output_type": "execute_result"
    }
   ],
   "source": [
    "xgb.score(xtest,ytest)"
   ]
  },
  {
   "cell_type": "code",
   "execution_count": 16,
   "id": "66b9524b",
   "metadata": {},
   "outputs": [],
   "source": [
    "pred=xgb.predict(xtest)"
   ]
  },
  {
   "cell_type": "code",
   "execution_count": 17,
   "id": "31c30554",
   "metadata": {
    "scrolled": true
   },
   "outputs": [
    {
     "name": "stdout",
     "output_type": "stream",
     "text": [
      "[[776672      3      0      0      0]\n",
      " [     2 194544     10      0      0]\n",
      " [     2     12   8207      0      0]\n",
      " [     0      5      0    219      1]\n",
      " [     0      5      0      0      5]]\n",
      "\n",
      "\n",
      "              precision    recall  f1-score   support\n",
      "\n",
      "           0       1.00      1.00      1.00    776675\n",
      "           1       1.00      1.00      1.00    194556\n",
      "           2       1.00      1.00      1.00      8221\n",
      "           3       1.00      0.97      0.99       225\n",
      "           4       0.83      0.50      0.62        10\n",
      "\n",
      "    accuracy                           1.00    979687\n",
      "   macro avg       0.97      0.89      0.92    979687\n",
      "weighted avg       1.00      1.00      1.00    979687\n",
      "\n"
     ]
    }
   ],
   "source": [
    "print(confusion_matrix(ytest,pred))\n",
    "print('\\n')\n",
    "print(classification_report(ytest,pred))"
   ]
  },
  {
   "cell_type": "markdown",
   "id": "b9a691aa",
   "metadata": {},
   "source": [
    "## Saving model and encoders"
   ]
  },
  {
   "cell_type": "code",
   "execution_count": 18,
   "id": "f2490d68",
   "metadata": {},
   "outputs": [],
   "source": [
    "import joblib"
   ]
  },
  {
   "cell_type": "code",
   "execution_count": 19,
   "id": "b379d16e",
   "metadata": {},
   "outputs": [
    {
     "data": {
      "text/plain": [
       "['make_transformer.save']"
      ]
     },
     "execution_count": 19,
     "metadata": {},
     "output_type": "execute_result"
    }
   ],
   "source": [
    "joblib.dump(ct, 'make_transformer.save') "
   ]
  },
  {
   "cell_type": "code",
   "execution_count": 23,
   "id": "7f2bf8b7",
   "metadata": {},
   "outputs": [
    {
     "data": {
      "text/plain": [
       "['model.save']"
      ]
     },
     "execution_count": 23,
     "metadata": {},
     "output_type": "execute_result"
    }
   ],
   "source": [
    "joblib.dump(xgb, 'model.save') "
   ]
  },
  {
   "cell_type": "code",
   "execution_count": 21,
   "id": "2b412e9d",
   "metadata": {},
   "outputs": [
    {
     "data": {
      "text/plain": [
       "['attacks.save']"
      ]
     },
     "execution_count": 21,
     "metadata": {},
     "output_type": "execute_result"
    }
   ],
   "source": [
    "joblib.dump(attacks, 'attacks.save') "
   ]
  },
  {
   "cell_type": "code",
   "execution_count": 22,
   "id": "137855ba",
   "metadata": {},
   "outputs": [
    {
     "data": {
      "text/plain": [
       "['to_drop.save']"
      ]
     },
     "execution_count": 22,
     "metadata": {},
     "output_type": "execute_result"
    }
   ],
   "source": [
    "joblib.dump(to_drop, 'to_drop.save') "
   ]
  },
  {
   "cell_type": "code",
   "execution_count": 24,
   "id": "54aee7cc",
   "metadata": {},
   "outputs": [
    {
     "data": {
      "text/plain": [
       "['columns.save']"
      ]
     },
     "execution_count": 24,
     "metadata": {},
     "output_type": "execute_result"
    }
   ],
   "source": [
    "joblib.dump(columns, 'columns.save') "
   ]
  },
  {
   "cell_type": "code",
   "execution_count": 36,
   "id": "5060d30f",
   "metadata": {},
   "outputs": [
    {
     "data": {
      "text/plain": [
       "['LabelEncoder.save']"
      ]
     },
     "execution_count": 36,
     "metadata": {},
     "output_type": "execute_result"
    }
   ],
   "source": [
    "joblib.dump(le, 'LabelEncoder.save') "
   ]
  },
  {
   "cell_type": "markdown",
   "id": "6bf0d12c",
   "metadata": {},
   "source": [
    "## Creating Pipeline for custom data"
   ]
  },
  {
   "cell_type": "code",
   "execution_count": 124,
   "id": "5bbe5e57",
   "metadata": {},
   "outputs": [],
   "source": [
    "def predict_attacks(data):\n",
    "\n",
    "    data=data.to_frame().swapaxes('index','columns')\n",
    "    model=joblib.load('model.save') \n",
    "    ct=joblib.load('make_transformer.save') \n",
    "    to_drop=joblib.load('to_drop.save')\n",
    "    le=joblib.load('LabelEncoder.save')\n",
    "    data.dropna(inplace=True)\n",
    "    data.drop(to_drop,axis=1,inplace=True)\n",
    "    xtest=ct.transform(data)\n",
    "    return le.inverse_transform(model.predict(xtest))"
   ]
  },
  {
   "cell_type": "markdown",
   "id": "5638a946",
   "metadata": {},
   "source": [
    "## Testing Pipeline"
   ]
  },
  {
   "cell_type": "code",
   "execution_count": 125,
   "id": "06302fc6",
   "metadata": {},
   "outputs": [],
   "source": [
    "columns=joblib.load('columns.save')\n",
    "df=pd.read_csv('kddcup.data_10_percent.gz',names=columns)"
   ]
  },
  {
   "cell_type": "code",
   "execution_count": 126,
   "id": "7ea41a93",
   "metadata": {},
   "outputs": [],
   "source": [
    "import random\n",
    "attacks=joblib.load('attacks.save')\n",
    "df['target']=df['target'].apply(lambda x:attacks[x[:-1]])"
   ]
  },
  {
   "cell_type": "code",
   "execution_count": 127,
   "id": "55400ce6",
   "metadata": {
    "scrolled": false
   },
   "outputs": [
    {
     "name": "stdout",
     "output_type": "stream",
     "text": [
      "['dos'] dos\n",
      "['probe'] probe\n",
      "['dos'] dos\n",
      "['dos'] dos\n",
      "['dos'] dos\n",
      "['normal'] normal\n",
      "['probe'] probe\n",
      "['dos'] dos\n",
      "['dos'] dos\n",
      "['normal'] normal\n"
     ]
    }
   ],
   "source": [
    "for i in range(0,10):\n",
    "    randint=random.randint(0,494020)\n",
    "    print(predict_attacks(df.iloc[randint][:-1]),df['target'].iloc[randint])"
   ]
  }
 ],
 "metadata": {
  "kernelspec": {
   "display_name": "Python 3 (ipykernel)",
   "language": "python",
   "name": "python3"
  },
  "language_info": {
   "codemirror_mode": {
    "name": "ipython",
    "version": 3
   },
   "file_extension": ".py",
   "mimetype": "text/x-python",
   "name": "python",
   "nbconvert_exporter": "python",
   "pygments_lexer": "ipython3",
   "version": "3.9.12"
  }
 },
 "nbformat": 4,
 "nbformat_minor": 5
}
